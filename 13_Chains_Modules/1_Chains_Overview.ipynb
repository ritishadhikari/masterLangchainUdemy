{
 "cells": [
  {
   "cell_type": "code",
   "execution_count": 1,
   "metadata": {},
   "outputs": [],
   "source": [
    "from dotenv import load_dotenv,find_dotenv\n",
    "from langchain_openai import OpenAI\n",
    "from langchain.prompts import PromptTemplate\n",
    "from langchain.chains import LLMChain\n",
    "from langchain.chains import SimpleSequentialChain"
   ]
  },
  {
   "cell_type": "code",
   "execution_count": 2,
   "metadata": {},
   "outputs": [],
   "source": [
    "llm=OpenAI(name=\"gpt-3.5-turbo-instruct\")"
   ]
  },
  {
   "cell_type": "code",
   "execution_count": 3,
   "metadata": {},
   "outputs": [],
   "source": [
    "prompt=PromptTemplate(\n",
    "    input_variables=[\"place\"],\n",
    "    template=\"Best Places to visit in {place}\"\n",
    ")"
   ]
  },
  {
   "cell_type": "code",
   "execution_count": 4,
   "metadata": {},
   "outputs": [
    {
     "name": "stderr",
     "output_type": "stream",
     "text": [
      "c:\\Users\\MSI 1\\.conda\\envs\\oaivenv\\Lib\\site-packages\\langchain_core\\_api\\deprecation.py:139: LangChainDeprecationWarning: The class `LLMChain` was deprecated in LangChain 0.1.17 and will be removed in 1.0. Use RunnableSequence, e.g., `prompt | llm` instead.\n",
      "  warn_deprecated(\n"
     ]
    }
   ],
   "source": [
    "chain=LLMChain(llm=llm,prompt=prompt)"
   ]
  },
  {
   "cell_type": "code",
   "execution_count": 5,
   "metadata": {},
   "outputs": [],
   "source": [
    "response=chain.invoke(input={\"place\":\"India\"})"
   ]
  },
  {
   "cell_type": "code",
   "execution_count": 6,
   "metadata": {},
   "outputs": [
    {
     "name": "stdout",
     "output_type": "stream",
     "text": [
      "\n",
      "\n",
      "Let’s explore some of the best places to visit in India\n",
      "\n",
      "1. Agra\n",
      "\n",
      "Located in the state of Uttar Pradesh, Agra is home to one of the most iconic monuments in the world, the Taj Mahal. This white marble mausoleum was built by the Mughal emperor Shah Jahan in memory of his beloved wife. Agra also boasts of other architectural marvels such as the Agra Fort and Fatehpur Sikri. The city is a must-visit for history lovers and those interested in Mughal architecture.\n",
      "\n",
      "2. Jaipur\n",
      "\n",
      "Also known as the Pink City, Jaipur is the capital of the state of Rajasthan. The city is famous for its magnificent forts, palaces, and gardens. The Amber Fort, City Palace, and Hawa Mahal are some of the must-visit attractions in Jaipur. The city is also known for its vibrant culture, delicious food, and bustling bazaars, making it a popular tourist destination in India.\n",
      "\n",
      "3. Goa\n",
      "\n",
      "Located on the west coast of India, Goa is known for its beautiful beaches, vibrant nightlife, and Portuguese influence. The state offers a perfect mix of relaxation and adventure with its water sports, beach parties, and historical sites. Some of the must\n"
     ]
    }
   ],
   "source": [
    "print(response['text'])"
   ]
  },
  {
   "cell_type": "markdown",
   "metadata": {},
   "source": [
    "### Simple Sequential Chains"
   ]
  },
  {
   "cell_type": "code",
   "execution_count": 7,
   "metadata": {},
   "outputs": [],
   "source": [
    "templatePlace=\"\"\" \n",
    "Suggest 5 best places to visit in {place}\n",
    "YOUR RESPONSE:\n",
    "\"\"\"\n",
    "\n",
    "promptPlace=PromptTemplate(\n",
    "    input_variables=[\"place\"],\n",
    "    template=templatePlace\n",
    ")\n",
    "\n",
    "chainPlace=LLMChain(\n",
    "    llm=llm,\n",
    "    prompt=promptPlace\n",
    ")\n"
   ]
  },
  {
   "cell_type": "code",
   "execution_count": 8,
   "metadata": {},
   "outputs": [],
   "source": [
    "templateExpense=\"\"\" \n",
    "Given a list of places, estimate the expense to visit them individually in local currency and also the days needed\n",
    "{sights}\n",
    "YOUR RESPONSE:\n",
    "\"\"\"\n",
    "\n",
    "promptPlace=PromptTemplate(\n",
    "    input_variables=[\"sights\"],\n",
    "    template=templateExpense\n",
    ")\n",
    "\n",
    "chainExpense=LLMChain(\n",
    "    llm=llm,\n",
    "    prompt=promptPlace\n",
    ")\n"
   ]
  },
  {
   "cell_type": "code",
   "execution_count": 9,
   "metadata": {},
   "outputs": [],
   "source": [
    "finalChain=SimpleSequentialChain(\n",
    "    chains=[chainPlace,chainExpense],\n",
    "    verbose=True\n",
    ")"
   ]
  },
  {
   "cell_type": "code",
   "execution_count": 11,
   "metadata": {},
   "outputs": [
    {
     "data": {
      "text/plain": [
       "[LLMChain(prompt=PromptTemplate(input_variables=['place'], template=' \\nSuggest 5 best places to visit in {place}\\nYOUR RESPONSE:\\n'), llm=OpenAI(name='gpt-3.5-turbo-instruct', client=<openai.resources.completions.Completions object at 0x00000263EBA3CFD0>, async_client=<openai.resources.completions.AsyncCompletions object at 0x00000263EB917AD0>, openai_api_key=SecretStr('**********'), openai_proxy='')),\n",
       " LLMChain(prompt=PromptTemplate(input_variables=['sights'], template=' \\nGiven a list of places, estimate the expense to visit them individually in local currency and also the days needed\\n{sights}\\nYOUR RESPONSE:\\n'), llm=OpenAI(name='gpt-3.5-turbo-instruct', client=<openai.resources.completions.Completions object at 0x00000263EBA3CFD0>, async_client=<openai.resources.completions.AsyncCompletions object at 0x00000263EB917AD0>, openai_api_key=SecretStr('**********'), openai_proxy=''))]"
      ]
     },
     "execution_count": 11,
     "metadata": {},
     "output_type": "execute_result"
    }
   ],
   "source": [
    "finalChain.chains"
   ]
  },
  {
   "cell_type": "code",
   "execution_count": 28,
   "metadata": {},
   "outputs": [
    {
     "name": "stdout",
     "output_type": "stream",
     "text": [
      "\n",
      "\n",
      "\u001b[1m> Entering new SimpleSequentialChain chain...\u001b[0m\n",
      "\u001b[36;1m\u001b[1;3m1. The Taj Mahal, Agra - This iconic monument is a must-see for anyone visiting India. The stunning white marble mausoleum, built by Emperor Shah Jahan in memory of his beloved wife, is a UNESCO World Heritage Site and one of the New Seven Wonders of the World.\n",
      "\n",
      "2. The Golden Temple, Amritsar - This sacred Sikh gurdwara, also known as Harmandir Sahib, is a place of spiritual significance and a symbol of equality and brotherhood. Visitors can participate in the langar (free community meal) and witness the beautiful evening ceremony of the Palki Sahib.\n",
      "\n",
      "3. Jaipur - Known as the \"Pink City\", Jaipur is a vibrant and colorful city with a rich history and cultural heritage. It is home to magnificent forts and palaces, such as the Amber Fort and the City Palace, as well as bustling markets and delicious Rajasthani cuisine.\n",
      "\n",
      "4. Kerala - This southern state is known for its serene backwaters, lush green landscapes, and beautiful beaches. Visitors can enjoy a houseboat cruise, witness traditional Kathakali dance performances, and indulge in Ayurvedic treatments and spa therapies.\n",
      "\n",
      "5. Varanasi - Considered one of the oldest continuously inhabited cities\u001b[0m\n",
      "\u001b[33;1m\u001b[1;3m\n",
      "1. The Taj Mahal, Agra - Expense: Approximately 1000 Indian Rupees per person for entrance fee and transportation. Days needed: 1 day.\n",
      "\n",
      "2. The Golden Temple, Amritsar - Expense: Free, but donations are welcome. Days needed: 1 day.\n",
      "\n",
      "3. Jaipur - Expense: Approximately 500 Indian Rupees per person for entrance fees and transportation. Days needed: 2-3 days.\n",
      "\n",
      "4. Kerala - Expense: Varies depending on activities and accommodations. For a moderate budget, approximately 5000-7000 Indian Rupees per person for a 3-day trip. Days needed: 3-4 days.\n",
      "\n",
      "5. Varanasi - Expense: Approximately 1000 Indian Rupees per person for transportation and activities. Days needed: 2 days.\u001b[0m\n",
      "\n",
      "\u001b[1m> Finished chain.\u001b[0m\n"
     ]
    }
   ],
   "source": [
    "review=finalChain.invoke({'input':{'place':\"India\"}})"
   ]
  },
  {
   "cell_type": "code",
   "execution_count": 26,
   "metadata": {},
   "outputs": [
    {
     "name": "stdout",
     "output_type": "stream",
     "text": [
      "{'input': 'India', 'output': '\\n1. The Taj Mahal in Agra, Uttar Pradesh - Expense: Approximately 1000 INR per person for entry fee and additional costs for transportation and food. Days needed: 1 day.\\n\\n2. The Golden Temple in Amritsar, Punjab - Expense: Entry to the temple is free, but donations are welcome. Approximately 1000 INR for transportation and food. Days needed: 1 day.\\n\\n3. The Backwaters in Kerala - Expense: A houseboat cruise can cost around 5000-7000 INR per day, including meals. Additional costs for transportation and activities. Days needed: 1-2 days.\\n\\n4. The Pink City of Jaipur, Rajasthan - Expense: Approximately 1000 INR for entry fees to forts and palaces, and additional costs for transportation and food. Days needed: 2-3 days.\\n\\n5. The beaches of Goa - Expense: Approximately 1000-2000 INR per day for accommodation, food, and activities. Additional costs for transportation. Days needed: 3-4 days.'}\n"
     ]
    }
   ],
   "source": [
    "print(review)"
   ]
  },
  {
   "cell_type": "code",
   "execution_count": 29,
   "metadata": {},
   "outputs": [
    {
     "name": "stdout",
     "output_type": "stream",
     "text": [
      "\n",
      "1. The Taj Mahal, Agra - Expense: Approximately 1000 Indian Rupees per person for entrance fee and transportation. Days needed: 1 day.\n",
      "\n",
      "2. The Golden Temple, Amritsar - Expense: Free, but donations are welcome. Days needed: 1 day.\n",
      "\n",
      "3. Jaipur - Expense: Approximately 500 Indian Rupees per person for entrance fees and transportation. Days needed: 2-3 days.\n",
      "\n",
      "4. Kerala - Expense: Varies depending on activities and accommodations. For a moderate budget, approximately 5000-7000 Indian Rupees per person for a 3-day trip. Days needed: 3-4 days.\n",
      "\n",
      "5. Varanasi - Expense: Approximately 1000 Indian Rupees per person for transportation and activities. Days needed: 2 days.\n"
     ]
    }
   ],
   "source": [
    "print(review['output'])"
   ]
  },
  {
   "cell_type": "code",
   "execution_count": null,
   "metadata": {},
   "outputs": [],
   "source": []
  }
 ],
 "metadata": {
  "kernelspec": {
   "display_name": "oaivenv",
   "language": "python",
   "name": "python3"
  },
  "language_info": {
   "codemirror_mode": {
    "name": "ipython",
    "version": 3
   },
   "file_extension": ".py",
   "mimetype": "text/x-python",
   "name": "python",
   "nbconvert_exporter": "python",
   "pygments_lexer": "ipython3",
   "version": "3.11.9"
  }
 },
 "nbformat": 4,
 "nbformat_minor": 2
}
