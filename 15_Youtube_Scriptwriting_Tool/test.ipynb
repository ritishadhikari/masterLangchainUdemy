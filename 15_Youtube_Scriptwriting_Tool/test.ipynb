{
 "cells": [
  {
   "cell_type": "code",
   "execution_count": 5,
   "metadata": {},
   "outputs": [],
   "source": [
    "from langchain_openai import OpenAI\n",
    "from langchain.prompts import PromptTemplate\n",
    "from langchain.chains import LLMChain\n",
    "from langchain_community.tools import DuckDuckGoSearchRun\n",
    "from dotenv import load_dotenv, find_dotenv"
   ]
  },
  {
   "cell_type": "code",
   "execution_count": 6,
   "metadata": {},
   "outputs": [
    {
     "data": {
      "text/plain": [
       "True"
      ]
     },
     "execution_count": 6,
     "metadata": {},
     "output_type": "execute_result"
    }
   ],
   "source": [
    "load_dotenv(find_dotenv(filename=\"../.env\"))"
   ]
  },
  {
   "cell_type": "code",
   "execution_count": 4,
   "metadata": {},
   "outputs": [],
   "source": [
    "titleTemplate=PromptTemplate(\n",
    "        input_variables=['subject'],\n",
    "        template=\"Please come up with a title for a YouTube video on {subject}\"\n",
    "    )"
   ]
  },
  {
   "cell_type": "code",
   "execution_count": 3,
   "metadata": {},
   "outputs": [],
   "source": [
    "scriptTemplate=PromptTemplate(\n",
    "        input_variables=[\"title\",\"DuckDuckGo_Search\",\"duration\"],\n",
    "        template=\"\"\"\n",
    "        Create a Script for a Youtube Video based on this title for me.\n",
    "        Title: {title} of duration: {int(duration)} minutes using this search data {DuckDuckGo_Search}\n",
    "        \"\"\",\n",
    "        input_types={\"title\":str,\"DuckDuckGo_Search\":str,\"duration\":int}\n",
    "    )"
   ]
  },
  {
   "cell_type": "code",
   "execution_count": 13,
   "metadata": {},
   "outputs": [],
   "source": [
    "llm=OpenAI(\n",
    "               temperature=0.3,\n",
    "               verbose=True)"
   ]
  },
  {
   "cell_type": "code",
   "execution_count": 14,
   "metadata": {},
   "outputs": [],
   "source": [
    "YOUTUBE_TITLE=\"Langchain\""
   ]
  },
  {
   "cell_type": "code",
   "execution_count": 18,
   "metadata": {},
   "outputs": [
    {
     "name": "stdout",
     "output_type": "stream",
     "text": [
      "\n",
      "\n",
      "\u001b[1m> Entering new LLMChain chain...\u001b[0m\n",
      "Prompt after formatting:\n",
      "\u001b[32;1m\u001b[1;3mPlease come up with a title for a YouTube video on Langchain\u001b[0m\n",
      "\n",
      "\u001b[1m> Finished chain.\u001b[0m\n"
     ]
    }
   ],
   "source": [
    "titleChain=LLMChain(llm=llm, prompt=titleTemplate,verbose=True)\n",
    "title=titleChain.invoke(input={\"subject\":YOUTUBE_TITLE})['text']"
   ]
  },
  {
   "cell_type": "code",
   "execution_count": 19,
   "metadata": {},
   "outputs": [
    {
     "data": {
      "text/plain": [
       "'\\n\\n\"Unlocking the Power of Langchain: The Future of Language Learning\"'"
      ]
     },
     "execution_count": 19,
     "metadata": {},
     "output_type": "execute_result"
    }
   ],
   "source": [
    "title"
   ]
  },
  {
   "cell_type": "code",
   "execution_count": 23,
   "metadata": {},
   "outputs": [
    {
     "ename": "TypeError",
     "evalue": "string indices must be integers, not 'str'",
     "output_type": "error",
     "traceback": [
      "\u001b[1;31m---------------------------------------------------------------------------\u001b[0m",
      "\u001b[1;31mTypeError\u001b[0m                                 Traceback (most recent call last)",
      "Cell \u001b[1;32mIn[23], line 4\u001b[0m\n\u001b[0;32m      2\u001b[0m search\u001b[38;5;241m=\u001b[39mDuckDuckGoSearchRun()\n\u001b[0;32m      3\u001b[0m searchResult\u001b[38;5;241m=\u001b[39msearch\u001b[38;5;241m.\u001b[39minvoke(\u001b[38;5;28minput\u001b[39m\u001b[38;5;241m=\u001b[39mYOUTUBE_TITLE)\n\u001b[1;32m----> 4\u001b[0m script\u001b[38;5;241m=\u001b[39mscriptChain\u001b[38;5;241m.\u001b[39minvoke(\u001b[38;5;28minput\u001b[39m\u001b[38;5;241m=\u001b[39m{\u001b[38;5;124m\"\u001b[39m\u001b[38;5;124mtitle\u001b[39m\u001b[38;5;124m\"\u001b[39m:\u001b[43mtitle\u001b[49m\u001b[43m[\u001b[49m\u001b[38;5;124;43m'\u001b[39;49m\u001b[38;5;124;43mtext\u001b[39;49m\u001b[38;5;124;43m'\u001b[39;49m\u001b[43m]\u001b[49m,\n\u001b[0;32m      5\u001b[0m                                  \u001b[38;5;124m\"\u001b[39m\u001b[38;5;124mduration\u001b[39m\u001b[38;5;124m\"\u001b[39m:\u001b[38;5;241m2\u001b[39m,\n\u001b[0;32m      6\u001b[0m                                 \u001b[38;5;124m\"\u001b[39m\u001b[38;5;124mDuckDuckGo_Search\u001b[39m\u001b[38;5;124m\"\u001b[39m:searchResult})\n",
      "\u001b[1;31mTypeError\u001b[0m: string indices must be integers, not 'str'"
     ]
    }
   ],
   "source": [
    "scriptChain=LLMChain(llm=llm, prompt=scriptTemplate,verbose=True)\n",
    "search=DuckDuckGoSearchRun()\n",
    "searchResult=search.invoke(input=YOUTUBE_TITLE)\n",
    "script=scriptChain.invoke(input={\"title\":title['text'],\n",
    "                                 \"duration\":2,\n",
    "                                \"DuckDuckGo_Search\":searchResult})"
   ]
  },
  {
   "cell_type": "code",
   "execution_count": null,
   "metadata": {},
   "outputs": [],
   "source": []
  }
 ],
 "metadata": {
  "kernelspec": {
   "display_name": "oaivenv",
   "language": "python",
   "name": "python3"
  },
  "language_info": {
   "codemirror_mode": {
    "name": "ipython",
    "version": 3
   },
   "file_extension": ".py",
   "mimetype": "text/x-python",
   "name": "python",
   "nbconvert_exporter": "python",
   "pygments_lexer": "ipython3",
   "version": "3.11.9"
  }
 },
 "nbformat": 4,
 "nbformat_minor": 2
}
