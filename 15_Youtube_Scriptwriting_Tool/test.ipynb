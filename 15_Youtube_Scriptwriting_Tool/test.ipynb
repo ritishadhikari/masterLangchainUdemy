{
 "cells": [
  {
   "cell_type": "code",
   "execution_count": 5,
   "metadata": {},
   "outputs": [],
   "source": [
    "from langchain_openai import OpenAI\n",
    "from langchain.prompts import PromptTemplate\n",
    "from langchain.chains import LLMChain\n",
    "from langchain_community.tools import DuckDuckGoSearchRun\n",
    "from dotenv import load_dotenv, find_dotenv"
   ]
  },
  {
   "cell_type": "code",
   "execution_count": 6,
   "metadata": {},
   "outputs": [
    {
     "data": {
      "text/plain": [
       "True"
      ]
     },
     "execution_count": 6,
     "metadata": {},
     "output_type": "execute_result"
    }
   ],
   "source": [
    "load_dotenv(find_dotenv(filename=\"../.env\"))"
   ]
  },
  {
   "cell_type": "code",
   "execution_count": 4,
   "metadata": {},
   "outputs": [],
   "source": [
    "titleTemplate=PromptTemplate(\n",
    "        input_variables=['subject'],\n",
    "        template=\"Please come up with a title for a YouTube video on {subject}\"\n",
    "    )"
   ]
  },
  {
   "cell_type": "code",
   "execution_count": 28,
   "metadata": {},
   "outputs": [],
   "source": [
    "scriptTemplate=PromptTemplate(\n",
    "        input_variables=[\"title\",\"DuckDuckGo_Search\",\"duration\"],\n",
    "        template=\"\"\"\n",
    "        Create a Script for a Youtube Video based on this title for me.\n",
    "        Title: {title} of duration: {duration} minutes using this search data {DuckDuckGo_Search}\n",
    "        \"\"\",\n",
    "        input_types={\"title\":str,\"DuckDuckGo_Search\":str,\"duration\":int}\n",
    "    )"
   ]
  },
  {
   "cell_type": "code",
   "execution_count": 29,
   "metadata": {},
   "outputs": [],
   "source": [
    "llm=OpenAI(\n",
    "               temperature=0.3,\n",
    "               verbose=True)"
   ]
  },
  {
   "cell_type": "code",
   "execution_count": 25,
   "metadata": {},
   "outputs": [],
   "source": [
    "YOUTUBE_TITLE=\"Langchain\""
   ]
  },
  {
   "cell_type": "code",
   "execution_count": 18,
   "metadata": {},
   "outputs": [
    {
     "name": "stdout",
     "output_type": "stream",
     "text": [
      "\n",
      "\n",
      "\u001b[1m> Entering new LLMChain chain...\u001b[0m\n",
      "Prompt after formatting:\n",
      "\u001b[32;1m\u001b[1;3mPlease come up with a title for a YouTube video on Langchain\u001b[0m\n",
      "\n",
      "\u001b[1m> Finished chain.\u001b[0m\n"
     ]
    }
   ],
   "source": [
    "titleChain=LLMChain(llm=llm, prompt=titleTemplate,verbose=True)\n",
    "title=titleChain.invoke(input={\"subject\":YOUTUBE_TITLE})['text']"
   ]
  },
  {
   "cell_type": "code",
   "execution_count": 19,
   "metadata": {},
   "outputs": [
    {
     "data": {
      "text/plain": [
       "'\\n\\n\"Unlocking the Power of Langchain: The Future of Language Learning\"'"
      ]
     },
     "execution_count": 19,
     "metadata": {},
     "output_type": "execute_result"
    }
   ],
   "source": [
    "title"
   ]
  },
  {
   "cell_type": "code",
   "execution_count": 30,
   "metadata": {},
   "outputs": [
    {
     "name": "stdout",
     "output_type": "stream",
     "text": [
      "\n",
      "\n",
      "\u001b[1m> Entering new LLMChain chain...\u001b[0m\n",
      "Prompt after formatting:\n",
      "\u001b[32;1m\u001b[1;3m\n",
      "        Create a Script for a Youtube Video based on this title for me.\n",
      "        Title: \n",
      "\n",
      "\"Unlocking the Power of Langchain: The Future of Language Learning\" of duration: 2 minutes using this search data LangChain has a set_debug() method that will return more granular logs of the chain internals: Let's see it with the above example. First, we'll need to install the main langchain package for the entrypoint to import the method: %pip install langchain. Then add this code: from langchain.globals import set_debug. LangChain is an open-source framework for creating applications using large language models (LLMs). Learn how to install, set up, and use LangChain with OpenAI LLM to generate responses for simple questions. LangChain is a toolkit for creating context-aware and reasoning applications with language models. Learn how to install, use, and deploy LangChain modules, templates, and components with this comprehensive guide. Learn how to use LangChain, a framework that simplifies the process of building AI apps with large language models (LLMs). This tutorial covers the core concepts, features, and components of LangChain, and how to integrate it with popular LLMs like GPT-4 and LLaMA. LangChain is a framework for working with large language models in Java. In this article, you will learn how to use LangChain to perform tasks such as text generation, summarization, translation, and more. You will also see how LangChain integrates with other libraries and frameworks such as Eclipse Collections, Spring Data Neo4j, and Apache Tiles.\n",
      "        \u001b[0m\n",
      "\n",
      "\u001b[1m> Finished chain.\u001b[0m\n"
     ]
    }
   ],
   "source": [
    "scriptChain=LLMChain(llm=llm, prompt=scriptTemplate,verbose=True)\n",
    "search=DuckDuckGoSearchRun()\n",
    "searchResult=search.invoke(input=YOUTUBE_TITLE)\n",
    "script=scriptChain.invoke(input={\"title\":title,\n",
    "                                 \"duration\":2,\n",
    "                                \"DuckDuckGo_Search\":searchResult})"
   ]
  },
  {
   "cell_type": "code",
   "execution_count": 32,
   "metadata": {},
   "outputs": [
    {
     "data": {
      "text/plain": [
       "'\\n[Opening shot of a person typing on a computer]\\n\\nHost: Hello and welcome to our channel! Today, we are going to talk about the future of language learning with LangChain. So, if you\\'re interested in unlocking the power of LangChain, then keep watching!\\n\\n[Cut to a screenshot of the LangChain website]\\n\\nHost: LangChain is an open-source framework that allows you to create applications using large language models. And in this video, we\\'ll show you how you can use LangChain to generate responses for simple questions.\\n\\n[Cut to a person installing the LangChain package]\\n\\nHost: To get started, you\\'ll need to install the main LangChain package. Don\\'t worry, it\\'s easy! Just use the command \"pip install langchain\" and you\\'re good to go.\\n\\n[Cut to a code snippet]\\n\\nHost: Now, let\\'s take a look at the set_debug() method. This method allows you to get more detailed logs of the chain internals. Simply import it using the code \"from langchain.globals import set_debug\" and you\\'re all set.\\n\\n[Cut to a person using LangChain to generate responses]\\n\\nHost: With LangChain, you can create context-aware and reasoning applications using language models. And the best part?'"
      ]
     },
     "execution_count": 32,
     "metadata": {},
     "output_type": "execute_result"
    }
   ],
   "source": [
    "script['text']"
   ]
  },
  {
   "cell_type": "code",
   "execution_count": null,
   "metadata": {},
   "outputs": [],
   "source": []
  }
 ],
 "metadata": {
  "kernelspec": {
   "display_name": "oaivenv",
   "language": "python",
   "name": "python3"
  },
  "language_info": {
   "codemirror_mode": {
    "name": "ipython",
    "version": 3
   },
   "file_extension": ".py",
   "mimetype": "text/x-python",
   "name": "python",
   "nbconvert_exporter": "python",
   "pygments_lexer": "ipython3",
   "version": "3.11.9"
  }
 },
 "nbformat": 4,
 "nbformat_minor": 2
}
