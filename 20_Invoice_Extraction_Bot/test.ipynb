{
 "cells": [
  {
   "cell_type": "code",
   "execution_count": 23,
   "metadata": {},
   "outputs": [],
   "source": [
    "import streamlit as st\n",
    "from dotenv import load_dotenv,find_dotenv\n",
    "from langchain_google_genai import GoogleGenerativeAI\n",
    "from pypdf import PdfReader\n",
    "import pandas as pd\n",
    "from langchain.prompts import PromptTemplate\n",
    "import re\n",
    "import json"
   ]
  },
  {
   "cell_type": "code",
   "execution_count": 17,
   "metadata": {},
   "outputs": [],
   "source": [
    "text=\"\"\n",
    "pdfReader=PdfReader(stream=\"Invoice/invoice_2001321.pdf\")\n",
    "for page in pdfReader.pages:\n",
    "    text+=page.extract_text()"
   ]
  },
  {
   "cell_type": "code",
   "execution_count": 18,
   "metadata": {},
   "outputs": [
    {
     "data": {
      "text/plain": [
       "'ExcelCult\\nIndia\\nBill To\\nMr.Sharath Raju\\nHyderabad, India\\nsharathkumarraju@proton.me\\n8888888888\\n \\n  \\nInvoice no.\\n2001321\\nDate\\n5/4/2023\\nDescription\\nQuantity\\nUnit price\\nAmount\\nTotal\\n$500.00\\nHP Laptop\\n1\\n$500.00\\n$500.00\\nSystem Generated\\n '"
      ]
     },
     "execution_count": 18,
     "metadata": {},
     "output_type": "execute_result"
    }
   ],
   "source": [
    "text"
   ]
  },
  {
   "cell_type": "code",
   "execution_count": 19,
   "metadata": {},
   "outputs": [],
   "source": [
    "template=\"\"\"\n",
    "    Extract all the following values: invoice no, Description, Quantity, date,\n",
    "    Unit Price, Amount, Total, Email, Phone Number and Address from this data: {pages}\n",
    "\n",
    "    Expected Output: Remove any dollar symbols \n",
    "    {{ 'Invoice No.': '1001329','Description':'Office Chair', 'Quantity':'2', 'Date':\"5/4/2019\", \"Amount\":\"2200.00\",\"Email\":\"ritishadhikari@gmail.com\", \"phoneNumber\":\"9434217611\",\"Address\":\"Kolkata, West Bengal\"}}\n",
    "    \"\"\"\n",
    "\n",
    "promptTemplate=PromptTemplate(\n",
    "    input_variables=[\"pages\"],\n",
    "    template=template\n",
    ").format(pages=text)"
   ]
  },
  {
   "cell_type": "code",
   "execution_count": 20,
   "metadata": {},
   "outputs": [],
   "source": [
    "llm=GoogleGenerativeAI(model=\"gemini-1.5-pro-latest\",temperature=0.7)"
   ]
  },
  {
   "cell_type": "code",
   "execution_count": 21,
   "metadata": {},
   "outputs": [],
   "source": [
    "fullResponse=llm.invoke(\n",
    "        input=promptTemplate\n",
    "    )"
   ]
  },
  {
   "cell_type": "code",
   "execution_count": 25,
   "metadata": {},
   "outputs": [
    {
     "data": {
      "text/plain": [
       "\"{\\n  'Invoice No.': '2001321',\\n  'Description': 'HP Laptop',\\n  'Quantity': '1',\\n  'Date': '5/4/2023',\\n  'Unit Price': '500.00',\\n  'Amount': '500.00',\\n  'Total': '500.00',\\n  'Email': 'sharathkumarraju@proton.me',\\n  'Phone Number': '8888888888',\\n  'Address': 'Hyderabad, India' \\n}\\n\""
      ]
     },
     "execution_count": 25,
     "metadata": {},
     "output_type": "execute_result"
    }
   ],
   "source": [
    "fullResponse"
   ]
  },
  {
   "cell_type": "code",
   "execution_count": 26,
   "metadata": {},
   "outputs": [
    {
     "data": {
      "text/plain": [
       "{'Invoice No.': '2001321',\n",
       " 'Description': 'HP Laptop',\n",
       " 'Quantity': '1',\n",
       " 'Date': '5/4/2023',\n",
       " 'Unit Price': '500.00',\n",
       " 'Amount': '500.00',\n",
       " 'Total': '500.00',\n",
       " 'Email': 'sharathkumarraju@proton.me',\n",
       " 'Phone Number': '8888888888',\n",
       " 'Address': 'Hyderabad, India'}"
      ]
     },
     "execution_count": 26,
     "metadata": {},
     "output_type": "execute_result"
    }
   ],
   "source": [
    "eval(fullResponse)"
   ]
  },
  {
   "cell_type": "code",
   "execution_count": null,
   "metadata": {},
   "outputs": [],
   "source": []
  }
 ],
 "metadata": {
  "kernelspec": {
   "display_name": "oaivenv",
   "language": "python",
   "name": "python3"
  },
  "language_info": {
   "codemirror_mode": {
    "name": "ipython",
    "version": 3
   },
   "file_extension": ".py",
   "mimetype": "text/x-python",
   "name": "python",
   "nbconvert_exporter": "python",
   "pygments_lexer": "ipython3",
   "version": "3.11.9"
  }
 },
 "nbformat": 4,
 "nbformat_minor": 2
}
