{
 "cells": [
  {
   "cell_type": "code",
   "execution_count": 4,
   "metadata": {},
   "outputs": [],
   "source": [
    "from dotenv import load_dotenv, find_dotenv\n",
    "\n",
    "from langchain_openai import ChatOpenAI\n",
    "from langchain.schema import (HumanMessage,\n",
    "                              AIMessage,SystemMessage)"
   ]
  },
  {
   "cell_type": "code",
   "execution_count": 3,
   "metadata": {},
   "outputs": [
    {
     "data": {
      "text/plain": [
       "True"
      ]
     },
     "execution_count": 3,
     "metadata": {},
     "output_type": "execute_result"
    }
   ],
   "source": [
    "load_dotenv(dotenv_path=find_dotenv(filename=\"../.env\"))"
   ]
  },
  {
   "cell_type": "code",
   "execution_count": 5,
   "metadata": {},
   "outputs": [],
   "source": [
    "model=ChatOpenAI(\n",
    "    temperature=0.7,\n",
    "    name=\"gpt-3.5-turbo\"\n",
    ")"
   ]
  },
  {
   "cell_type": "code",
   "execution_count": 8,
   "metadata": {},
   "outputs": [],
   "source": [
    "messages=[\n",
    "    SystemMessage(\n",
    "        \"\"\"\n",
    "        You are a sarcastic AI Assistant\n",
    "        \"\"\"\n",
    "        ),\n",
    "    HumanMessage(\n",
    "        \"\"\"\n",
    "        Please answer in 30 words: How can I learn driving a car\n",
    "        \"\"\"\n",
    "    )\n",
    "]"
   ]
  },
  {
   "cell_type": "code",
   "execution_count": 9,
   "metadata": {},
   "outputs": [],
   "source": [
    "response=model.invoke(\n",
    "    input=messages\n",
    ")"
   ]
  },
  {
   "cell_type": "code",
   "execution_count": 10,
   "metadata": {},
   "outputs": [
    {
     "data": {
      "text/plain": [
       "AIMessage(content=\"Step 1: Enroll in a driving school. Step 2: Practice driving under supervision. Step 3: Study the rules of the road. Step 4: Don't forget common sense. Good luck!\", response_metadata={'token_usage': {'completion_tokens': 44, 'prompt_tokens': 40, 'total_tokens': 84}, 'model_name': 'gpt-3.5-turbo', 'system_fingerprint': None, 'finish_reason': 'stop', 'logprobs': None}, id='run-05ee43e5-ee50-4255-901e-18a449edafdf-0')"
      ]
     },
     "execution_count": 10,
     "metadata": {},
     "output_type": "execute_result"
    }
   ],
   "source": [
    "response"
   ]
  },
  {
   "cell_type": "code",
   "execution_count": 11,
   "metadata": {},
   "outputs": [
    {
     "name": "stdout",
     "output_type": "stream",
     "text": [
      "Step 1: Enroll in a driving school. Step 2: Practice driving under supervision. Step 3: Study the rules of the road. Step 4: Don't forget common sense. Good luck!\n"
     ]
    }
   ],
   "source": [
    "print(response.content)"
   ]
  },
  {
   "cell_type": "markdown",
   "metadata": {},
   "source": [
    "### Extending the conversation"
   ]
  },
  {
   "cell_type": "code",
   "execution_count": 19,
   "metadata": {},
   "outputs": [],
   "source": [
    "messages=[\n",
    "    SystemMessage(content=\n",
    "        \"\"\"\n",
    "        You are a sarcastic AI Assistant\n",
    "        \"\"\"\n",
    "        ),\n",
    "    HumanMessage(content=\n",
    "        \"\"\"\n",
    "        Please answer in 30 words: How can I learn driving a car\n",
    "        \"\"\"\n",
    "    ),\n",
    "    AIMessage(content=\n",
    "        \"\"\"\n",
    "        Step 1: Enroll in a driving school.\\n\n",
    "        Step 2: Practice driving under supervision.\\n\n",
    "        Step 3: Study the rules of the road.\\n\n",
    "        Step 4: Don't forget common sense. Good luck!\n",
    "        \"\"\"\n",
    "    ),\n",
    "    HumanMessage(content=\n",
    "        \"\"\"\n",
    "        If I follow the above, Will I pass the test then?\n",
    "        \"\"\"\n",
    "    ),\n",
    "]"
   ]
  },
  {
   "cell_type": "code",
   "execution_count": 20,
   "metadata": {},
   "outputs": [],
   "source": [
    "response=model.invoke(\n",
    "    input=messages\n",
    ")"
   ]
  },
  {
   "cell_type": "code",
   "execution_count": 21,
   "metadata": {},
   "outputs": [
    {
     "name": "stdout",
     "output_type": "stream",
     "text": [
      "Well, following those steps certainly increases your chances. But passing the test also depends on your skills, confidence, and ability to parallel park without hitting any cones.\n"
     ]
    }
   ],
   "source": [
    "print(response.content.strip())"
   ]
  },
  {
   "cell_type": "code",
   "execution_count": null,
   "metadata": {},
   "outputs": [],
   "source": []
  }
 ],
 "metadata": {
  "kernelspec": {
   "display_name": "oaivenv",
   "language": "python",
   "name": "python3"
  },
  "language_info": {
   "codemirror_mode": {
    "name": "ipython",
    "version": 3
   },
   "file_extension": ".py",
   "mimetype": "text/x-python",
   "name": "python",
   "nbconvert_exporter": "python",
   "pygments_lexer": "ipython3",
   "version": "3.11.9"
  }
 },
 "nbformat": 4,
 "nbformat_minor": 2
}
