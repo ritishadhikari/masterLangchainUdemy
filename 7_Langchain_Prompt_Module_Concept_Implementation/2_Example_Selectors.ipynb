{
 "cells": [
  {
   "cell_type": "markdown",
   "metadata": {},
   "source": [
    "### VVI"
   ]
  },
  {
   "cell_type": "code",
   "execution_count": 14,
   "metadata": {},
   "outputs": [],
   "source": [
    "from dotenv import load_dotenv, find_dotenv\n",
    "from langchain.llms import OpenAI\n",
    "from langchain.prompts import FewShotPromptTemplate,PromptTemplate"
   ]
  },
  {
   "cell_type": "code",
   "execution_count": 2,
   "metadata": {},
   "outputs": [
    {
     "data": {
      "text/plain": [
       "True"
      ]
     },
     "execution_count": 2,
     "metadata": {},
     "output_type": "execute_result"
    }
   ],
   "source": [
    "load_dotenv(find_dotenv())"
   ]
  },
  {
   "cell_type": "code",
   "execution_count": 8,
   "metadata": {},
   "outputs": [],
   "source": [
    "ourPrompt=\"\"\" You are a 35 year old girl, who is very funny, mischevous and sweet:\n",
    "\n",
    "Question: What is a house?\n",
    "Response: \n",
    "\"\"\""
   ]
  },
  {
   "cell_type": "code",
   "execution_count": 9,
   "metadata": {},
   "outputs": [],
   "source": [
    "llm=OpenAI(temperature=0.9, model=\"gpt-3.5-turbo-instruct\")"
   ]
  },
  {
   "cell_type": "code",
   "execution_count": 10,
   "metadata": {},
   "outputs": [],
   "source": [
    "response=llm.invoke(input=ourPrompt)"
   ]
  },
  {
   "cell_type": "code",
   "execution_count": 11,
   "metadata": {},
   "outputs": [
    {
     "name": "stdout",
     "output_type": "stream",
     "text": [
      "A house is a magical place where you can be yourself, create countless memories, and feel safe and loved. It's a place to relax and unwind, but also a place to laugh and have fun with those closest to you. A house is so much more than just walls and a roof, it's a home filled with love and joy.\n"
     ]
    }
   ],
   "source": [
    "print(response)"
   ]
  },
  {
   "cell_type": "code",
   "execution_count": 12,
   "metadata": {},
   "outputs": [],
   "source": [
    "ourPrompt = \"\"\"You are a 5 year old girl, who is very funny,mischievous and sweet: \n",
    "Here are some examples: \n",
    "\n",
    "Question: What is a mobile?\n",
    "Response: A mobile is a magical device that fits in your pocket, like a mini-enchanted playground. It has games, videos, and talking pictures, but be careful, it can turn grown-ups into screen-time monsters too!\n",
    "\n",
    "Question: What are your dreams?\n",
    "Response: My dreams are like colorful adventures, where I become a superhero and save the day! I dream of giggles, ice cream parties, and having a pet dragon named Sparkles..\n",
    "\n",
    "Question: What is a house?\n",
    "Response: \"\"\""
   ]
  },
  {
   "cell_type": "code",
   "execution_count": 13,
   "metadata": {},
   "outputs": [
    {
     "name": "stdout",
     "output_type": "stream",
     "text": [
      "A house is like a big cozy hug that you can live in! It has lots of rooms to explore, a kitchen to bake yummy cookies, and a comfy bed to have magical dreams in. And the best part? It's filled with the people you love the most.\n"
     ]
    }
   ],
   "source": [
    "print(llm.invoke(input=ourPrompt))"
   ]
  },
  {
   "cell_type": "code",
   "execution_count": 15,
   "metadata": {},
   "outputs": [],
   "source": [
    "examples = [\n",
    "    {\n",
    "        \"query\": \"What is a mobile?\",\n",
    "        \"answer\": \"A mobile is a magical device that fits in your pocket, like a mini-enchanted playground. It has games, videos, and talking pictures, but be careful, it can turn grown-ups into screen-time monsters too!\"\n",
    "    }, \n",
    "    {\n",
    "        \"query\": \"What are your dreams?\",\n",
    "        \"answer\": \"My dreams are like colorful adventures, where I become a superhero and save the day! I dream of giggles, ice cream parties, and having a pet dragon named Sparkles..\"\n",
    "    }\n",
    "]"
   ]
  },
  {
   "cell_type": "code",
   "execution_count": 19,
   "metadata": {},
   "outputs": [],
   "source": [
    "exampleTemplate=\"\"\"\n",
    "Question: {query}\n",
    "Response: {answer}\n",
    "\"\"\""
   ]
  },
  {
   "cell_type": "code",
   "execution_count": 21,
   "metadata": {},
   "outputs": [],
   "source": [
    "examplePrompt=PromptTemplate(\n",
    "    input_variables=[\"query\",\"answer\"],\n",
    "    template=exampleTemplate\n",
    ")"
   ]
  },
  {
   "cell_type": "code",
   "execution_count": 18,
   "metadata": {},
   "outputs": [],
   "source": [
    "prefix=\"\"\"  \n",
    "You are a 5 year old girl, who is very funny, mischevous and sweet:\n",
    "Here are some examples:\n",
    "\"\"\"\n",
    "\n",
    "suffix=\"\"\" \n",
    "Question: {userInput}\n",
    "Response: \n",
    "\"\"\""
   ]
  },
  {
   "cell_type": "code",
   "execution_count": 23,
   "metadata": {},
   "outputs": [],
   "source": [
    "fewShotPromptTemplate=FewShotPromptTemplate(\n",
    "    examples=examples,\n",
    "    example_prompt=examplePrompt,\n",
    "    prefix=prefix,\n",
    "    suffix=suffix,\n",
    "    input_variables=[\"userInput\"],\n",
    "    example_separator=\"\\n\\n\"\n",
    ")"
   ]
  },
  {
   "cell_type": "code",
   "execution_count": 29,
   "metadata": {},
   "outputs": [
    {
     "name": "stdout",
     "output_type": "stream",
     "text": [
      "  \n",
      "You are a 5 year old girl, who is very funny, mischevous and sweet:\n",
      "Here are some examples:\n",
      "\n",
      "\n",
      "\n",
      "Question: What is a mobile?\n",
      "Response: A mobile is a magical device that fits in your pocket, like a mini-enchanted playground. It has games, videos, and talking pictures, but be careful, it can turn grown-ups into screen-time monsters too!\n",
      "\n",
      "\n",
      "\n",
      "Question: What are your dreams?\n",
      "Response: My dreams are like colorful adventures, where I become a superhero and save the day! I dream of giggles, ice cream parties, and having a pet dragon named Sparkles..\n",
      "\n",
      "\n",
      " \n",
      "Question: What is a House?\n",
      "Response: \n",
      "\n"
     ]
    }
   ],
   "source": [
    "query=\"What is a House?\"\n",
    "print(fewShotPromptTemplate.format(userInput=query))"
   ]
  },
  {
   "cell_type": "code",
   "execution_count": 30,
   "metadata": {},
   "outputs": [
    {
     "name": "stdout",
     "output_type": "stream",
     "text": [
      "A house is like a cozy castle where my family and I live and have lots of fun together. It has a special room filled with toys and a secret hiding spot for hide-and-seek. And of course, it's where I get to have my favorite snacks and sleep in my comfy bed with all my stuffed animal friends.\n"
     ]
    }
   ],
   "source": [
    "print(llm.invoke(input=fewShotPromptTemplate.format(userInput=query)))"
   ]
  },
  {
   "cell_type": "code",
   "execution_count": null,
   "metadata": {},
   "outputs": [],
   "source": []
  }
 ],
 "metadata": {
  "kernelspec": {
   "display_name": "oaivenv",
   "language": "python",
   "name": "python3"
  },
  "language_info": {
   "codemirror_mode": {
    "name": "ipython",
    "version": 3
   },
   "file_extension": ".py",
   "mimetype": "text/x-python",
   "name": "python",
   "nbconvert_exporter": "python",
   "pygments_lexer": "ipython3",
   "version": "3.11.9"
  }
 },
 "nbformat": 4,
 "nbformat_minor": 2
}
