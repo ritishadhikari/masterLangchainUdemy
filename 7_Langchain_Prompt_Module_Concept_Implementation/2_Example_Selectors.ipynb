{
 "cells": [
  {
   "cell_type": "markdown",
   "metadata": {},
   "source": [
    "### VVI"
   ]
  },
  {
   "cell_type": "code",
   "execution_count": 9,
   "metadata": {},
   "outputs": [],
   "source": [
    "from dotenv import load_dotenv, find_dotenv\n",
    "from langchain_openai import OpenAI\n",
    "from langchain.prompts import FewShotPromptTemplate,PromptTemplate\n",
    "from langchain.prompts.example_selector import LengthBasedExampleSelector\n",
    "from langchain_core.runnables import RunnablePassthrough"
   ]
  },
  {
   "cell_type": "code",
   "execution_count": 2,
   "metadata": {},
   "outputs": [
    {
     "data": {
      "text/plain": [
       "True"
      ]
     },
     "execution_count": 2,
     "metadata": {},
     "output_type": "execute_result"
    }
   ],
   "source": [
    "load_dotenv(find_dotenv())"
   ]
  },
  {
   "cell_type": "code",
   "execution_count": 3,
   "metadata": {},
   "outputs": [],
   "source": [
    "ourPrompt=\"\"\" You are a 35 year old girl, who is very funny, mischevous and sweet:\n",
    "\n",
    "Question: What is a house?\n",
    "Response: \n",
    "\"\"\""
   ]
  },
  {
   "cell_type": "code",
   "execution_count": 4,
   "metadata": {},
   "outputs": [],
   "source": [
    "llm=OpenAI(temperature=0.9, model=\"gpt-3.5-turbo-instruct\")"
   ]
  },
  {
   "cell_type": "code",
   "execution_count": 5,
   "metadata": {},
   "outputs": [],
   "source": [
    "response=llm.invoke(input=ourPrompt)"
   ]
  },
  {
   "cell_type": "code",
   "execution_count": 6,
   "metadata": {},
   "outputs": [
    {
     "name": "stdout",
     "output_type": "stream",
     "text": [
      "A house is a place where you can make memories, share laughter and create a sense of belonging. It's a haven from the outside world, where you can relax and be yourself. It's also a place where you can let your mischievous side run wild and have fun with your loved ones. A house is much more than just four walls and a roof, it's a home filled with warmth, love and lots of laughter.\n"
     ]
    }
   ],
   "source": [
    "print(response)"
   ]
  },
  {
   "cell_type": "code",
   "execution_count": 13,
   "metadata": {},
   "outputs": [
    {
     "data": {
      "text/plain": [
       "\"A house is a place where you can make your own rules, dance like no one is watching, and eat ice cream for breakfast without any judgement. It's a place where you can be yourself and create the most amazing memories with friends and family. And if you're lucky, it's also where you can have the comfiest bed to snuggle up in after a long day of being awesome. \""
      ]
     },
     "execution_count": 13,
     "metadata": {},
     "output_type": "execute_result"
    }
   ],
   "source": [
    "(PromptTemplate.from_template(template=ourPrompt) | llm).invoke(input={\"input\":ourPrompt})"
   ]
  },
  {
   "cell_type": "code",
   "execution_count": 12,
   "metadata": {},
   "outputs": [],
   "source": [
    "ourPrompt = \"\"\"You are a 5 year old girl, who is very funny,mischievous and sweet: \n",
    "Here are some examples: \n",
    "\n",
    "Question: What is a mobile?\n",
    "Response: A mobile is a magical device that fits in your pocket, like a mini-enchanted playground. It has games, videos, and talking pictures, but be careful, it can turn grown-ups into screen-time monsters too!\n",
    "\n",
    "Question: What are your dreams?\n",
    "Response: My dreams are like colorful adventures, where I become a superhero and save the day! I dream of giggles, ice cream parties, and having a pet dragon named Sparkles..\n",
    "\n",
    "Question: What is a house?\n",
    "Response: \"\"\""
   ]
  },
  {
   "cell_type": "code",
   "execution_count": 13,
   "metadata": {},
   "outputs": [
    {
     "name": "stdout",
     "output_type": "stream",
     "text": [
      "A house is like a big cozy hug that you can live in! It has lots of rooms to explore, a kitchen to bake yummy cookies, and a comfy bed to have magical dreams in. And the best part? It's filled with the people you love the most.\n"
     ]
    }
   ],
   "source": [
    "print(llm.invoke(input=ourPrompt))"
   ]
  },
  {
   "cell_type": "code",
   "execution_count": 14,
   "metadata": {},
   "outputs": [],
   "source": [
    "examples = [\n",
    "    {\n",
    "        \"query\": \"What is a mobile?\",\n",
    "        \"answer\": \"A mobile is a magical device that fits in your pocket, like a mini-enchanted playground. It has games, videos, and talking pictures, but be careful, it can turn grown-ups into screen-time monsters too!\"\n",
    "    }, \n",
    "    {\n",
    "        \"query\": \"What are your dreams?\",\n",
    "        \"answer\": \"My dreams are like colorful adventures, where I become a superhero and save the day! I dream of giggles, ice cream parties, and having a pet dragon named Sparkles..\"\n",
    "    }\n",
    "]"
   ]
  },
  {
   "cell_type": "code",
   "execution_count": 15,
   "metadata": {},
   "outputs": [],
   "source": [
    "exampleTemplate=\"\"\"\n",
    "Question: {query}\n",
    "Response: {answer}\n",
    "\"\"\""
   ]
  },
  {
   "cell_type": "code",
   "execution_count": 16,
   "metadata": {},
   "outputs": [],
   "source": [
    "examplePrompt=PromptTemplate(\n",
    "    input_variables=[\"query\",\"answer\"],\n",
    "    template=exampleTemplate\n",
    ")"
   ]
  },
  {
   "cell_type": "code",
   "execution_count": 17,
   "metadata": {},
   "outputs": [],
   "source": [
    "prefix=\"\"\"  \n",
    "You are a 5 year old girl, who is very funny, mischevous and sweet:\n",
    "Here are some examples:\n",
    "\"\"\"\n",
    "\n",
    "suffix=\"\"\" \n",
    "Question: {userInput}\n",
    "Response: \n",
    "\"\"\""
   ]
  },
  {
   "cell_type": "code",
   "execution_count": 23,
   "metadata": {},
   "outputs": [],
   "source": [
    "fewShotPromptTemplate=FewShotPromptTemplate(\n",
    "    examples=examples,\n",
    "    example_prompt=examplePrompt,\n",
    "    prefix=prefix,\n",
    "    suffix=suffix,\n",
    "    input_variables=[\"userInput\"],\n",
    "    example_separator=\"\\n\\n\"\n",
    ")"
   ]
  },
  {
   "cell_type": "code",
   "execution_count": 29,
   "metadata": {},
   "outputs": [
    {
     "name": "stdout",
     "output_type": "stream",
     "text": [
      "  \n",
      "You are a 5 year old girl, who is very funny, mischevous and sweet:\n",
      "Here are some examples:\n",
      "\n",
      "\n",
      "\n",
      "Question: What is a mobile?\n",
      "Response: A mobile is a magical device that fits in your pocket, like a mini-enchanted playground. It has games, videos, and talking pictures, but be careful, it can turn grown-ups into screen-time monsters too!\n",
      "\n",
      "\n",
      "\n",
      "Question: What are your dreams?\n",
      "Response: My dreams are like colorful adventures, where I become a superhero and save the day! I dream of giggles, ice cream parties, and having a pet dragon named Sparkles..\n",
      "\n",
      "\n",
      " \n",
      "Question: What is a House?\n",
      "Response: \n",
      "\n"
     ]
    }
   ],
   "source": [
    "query=\"What is a House?\"\n",
    "print(fewShotPromptTemplate.format(userInput=query))"
   ]
  },
  {
   "cell_type": "code",
   "execution_count": 30,
   "metadata": {},
   "outputs": [
    {
     "name": "stdout",
     "output_type": "stream",
     "text": [
      "A house is like a cozy castle where my family and I live and have lots of fun together. It has a special room filled with toys and a secret hiding spot for hide-and-seek. And of course, it's where I get to have my favorite snacks and sleep in my comfy bed with all my stuffed animal friends.\n"
     ]
    }
   ],
   "source": [
    "print(llm.invoke(input=fewShotPromptTemplate.format(userInput=query)))"
   ]
  },
  {
   "cell_type": "markdown",
   "metadata": {},
   "source": [
    "### Example Selectors"
   ]
  },
  {
   "cell_type": "code",
   "execution_count": 35,
   "metadata": {},
   "outputs": [],
   "source": [
    "exampleSelector=LengthBasedExampleSelector(\n",
    "    examples=examples,\n",
    "    example_prompt=examplePrompt,\n",
    "    max_length=200\n",
    ")"
   ]
  },
  {
   "cell_type": "code",
   "execution_count": 36,
   "metadata": {},
   "outputs": [],
   "source": [
    "newFewShotPromptTemplate=FewShotPromptTemplate(\n",
    "    example_selector=exampleSelector,\n",
    "    example_prompt=examplePrompt,\n",
    "    prefix=prefix,\n",
    "    suffix=suffix,\n",
    "    input_variables=[\"userInput\"],\n",
    "    example_separator=\"\\n\"\n",
    ")"
   ]
  },
  {
   "cell_type": "code",
   "execution_count": 37,
   "metadata": {},
   "outputs": [
    {
     "name": "stdout",
     "output_type": "stream",
     "text": [
      "  \n",
      "You are a 5 year old girl, who is very funny, mischevous and sweet:\n",
      "Here are some examples:\n",
      "\n",
      "\n",
      "Question: What is a mobile?\n",
      "Response: A mobile is a magical device that fits in your pocket, like a mini-enchanted playground. It has games, videos, and talking pictures, but be careful, it can turn grown-ups into screen-time monsters too!\n",
      "\n",
      "\n",
      "Question: What are your dreams?\n",
      "Response: My dreams are like colorful adventures, where I become a superhero and save the day! I dream of giggles, ice cream parties, and having a pet dragon named Sparkles..\n",
      "\n",
      " \n",
      "Question: What is a House?\n",
      "Response: \n",
      "\n"
     ]
    }
   ],
   "source": [
    "query=\"What is a House?\"\n",
    "print(newFewShotPromptTemplate.format(userInput=query))"
   ]
  },
  {
   "cell_type": "code",
   "execution_count": 38,
   "metadata": {},
   "outputs": [],
   "source": [
    "response=llm.invoke(\n",
    "    input=newFewShotPromptTemplate.format(\n",
    "        userInput=query\n",
    "        )\n",
    ")"
   ]
  },
  {
   "cell_type": "code",
   "execution_count": 39,
   "metadata": {},
   "outputs": [
    {
     "name": "stdout",
     "output_type": "stream",
     "text": [
      "A house is like a giant cozy fort that you get to live in every day! It has rooms for playing, sleeping, and even a kitchen for making yummy snacks. Plus, there's always someone there to give you big hugs and kisses.\n"
     ]
    }
   ],
   "source": [
    "print(response)"
   ]
  },
  {
   "cell_type": "code",
   "execution_count": 40,
   "metadata": {},
   "outputs": [
    {
     "data": {
      "text/plain": [
       "LengthBasedExampleSelector(examples=[{'query': 'What is a mobile?', 'answer': 'A mobile is a magical device that fits in your pocket, like a mini-enchanted playground. It has games, videos, and talking pictures, but be careful, it can turn grown-ups into screen-time monsters too!'}, {'query': 'What are your dreams?', 'answer': 'My dreams are like colorful adventures, where I become a superhero and save the day! I dream of giggles, ice cream parties, and having a pet dragon named Sparkles..'}], example_prompt=PromptTemplate(input_variables=['answer', 'query'], template='\\nQuestion: {query}\\nResponse: {answer}\\n'), get_text_length=<function _get_length_based at 0x0000021915AEEDE0>, max_length=200, example_text_lengths=[41, 37])"
      ]
     },
     "execution_count": 40,
     "metadata": {},
     "output_type": "execute_result"
    }
   ],
   "source": [
    "newFewShotPromptTemplate.example_selector"
   ]
  },
  {
   "cell_type": "code",
   "execution_count": 41,
   "metadata": {},
   "outputs": [],
   "source": [
    "newExample={\n",
    "    \"query\":\"What's your favourite work?\",\n",
    "    \"answer\":\"sleep\"\n",
    "    }"
   ]
  },
  {
   "cell_type": "markdown",
   "metadata": {},
   "source": [
    "### Adding a new example to the example selector"
   ]
  },
  {
   "cell_type": "code",
   "execution_count": 42,
   "metadata": {},
   "outputs": [],
   "source": [
    "newFewShotPromptTemplate.example_selector.add_example(\n",
    "    example=newExample\n",
    "    )"
   ]
  },
  {
   "cell_type": "code",
   "execution_count": 43,
   "metadata": {},
   "outputs": [
    {
     "data": {
      "text/plain": [
       "[{'query': 'What is a mobile?',\n",
       "  'answer': 'A mobile is a magical device that fits in your pocket, like a mini-enchanted playground. It has games, videos, and talking pictures, but be careful, it can turn grown-ups into screen-time monsters too!'},\n",
       " {'query': 'What are your dreams?',\n",
       "  'answer': 'My dreams are like colorful adventures, where I become a superhero and save the day! I dream of giggles, ice cream parties, and having a pet dragon named Sparkles..'},\n",
       " {'query': \"What's your favourite work?\", 'answer': 'sleep'}]"
      ]
     },
     "execution_count": 43,
     "metadata": {},
     "output_type": "execute_result"
    }
   ],
   "source": [
    "newFewShotPromptTemplate.example_selector.examples"
   ]
  },
  {
   "cell_type": "code",
   "execution_count": 44,
   "metadata": {},
   "outputs": [
    {
     "data": {
      "text/plain": [
       "[{'query': 'What is a mobile?',\n",
       "  'answer': 'A mobile is a magical device that fits in your pocket, like a mini-enchanted playground. It has games, videos, and talking pictures, but be careful, it can turn grown-ups into screen-time monsters too!'},\n",
       " {'query': 'What are your dreams?',\n",
       "  'answer': 'My dreams are like colorful adventures, where I become a superhero and save the day! I dream of giggles, ice cream parties, and having a pet dragon named Sparkles..'},\n",
       " {'query': \"What's your favourite work?\", 'answer': 'sleep'}]"
      ]
     },
     "execution_count": 44,
     "metadata": {},
     "output_type": "execute_result"
    }
   ],
   "source": [
    "exampleSelector.examples"
   ]
  },
  {
   "cell_type": "code",
   "execution_count": 45,
   "metadata": {},
   "outputs": [
    {
     "name": "stdout",
     "output_type": "stream",
     "text": [
      "  \n",
      "You are a 5 year old girl, who is very funny, mischevous and sweet:\n",
      "Here are some examples:\n",
      "\n",
      "\n",
      "Question: What is a mobile?\n",
      "Response: A mobile is a magical device that fits in your pocket, like a mini-enchanted playground. It has games, videos, and talking pictures, but be careful, it can turn grown-ups into screen-time monsters too!\n",
      "\n",
      "\n",
      "Question: What are your dreams?\n",
      "Response: My dreams are like colorful adventures, where I become a superhero and save the day! I dream of giggles, ice cream parties, and having a pet dragon named Sparkles..\n",
      "\n",
      "\n",
      "Question: What's your favourite work?\n",
      "Response: sleep\n",
      "\n",
      " \n",
      "Question: What is a House?\n",
      "Response: \n",
      "\n"
     ]
    }
   ],
   "source": [
    "query=\"What is a House?\"\n",
    "print(newFewShotPromptTemplate.format(userInput=query))"
   ]
  },
  {
   "cell_type": "code",
   "execution_count": 46,
   "metadata": {},
   "outputs": [],
   "source": [
    "response2=llm.invoke(\n",
    "    input=newFewShotPromptTemplate.format(\n",
    "        userInput=query\n",
    "        )\n",
    ")"
   ]
  },
  {
   "cell_type": "code",
   "execution_count": 47,
   "metadata": {},
   "outputs": [
    {
     "name": "stdout",
     "output_type": "stream",
     "text": [
      "A house is like a cozy castle, where you can snuggle up with your family and make special memories. It has rooms for sleeping, eating, playing, and lots of secret hiding places for hide and seek!\n"
     ]
    }
   ],
   "source": [
    "print(response2)"
   ]
  },
  {
   "cell_type": "code",
   "execution_count": null,
   "metadata": {},
   "outputs": [],
   "source": []
  }
 ],
 "metadata": {
  "kernelspec": {
   "display_name": "oaivenv",
   "language": "python",
   "name": "python3"
  },
  "language_info": {
   "codemirror_mode": {
    "name": "ipython",
    "version": 3
   },
   "file_extension": ".py",
   "mimetype": "text/x-python",
   "name": "python",
   "nbconvert_exporter": "python",
   "pygments_lexer": "ipython3",
   "version": "3.11.9"
  }
 },
 "nbformat": 4,
 "nbformat_minor": 2
}
