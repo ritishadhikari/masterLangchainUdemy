{
 "cells": [
  {
   "cell_type": "code",
   "execution_count": 1,
   "metadata": {},
   "outputs": [],
   "source": [
    "from dotenv import load_dotenv,find_dotenv\n",
    "from langchain_openai import OpenAI\n",
    "from langchain.memory import (ConversationBufferMemory,\n",
    "                              ConversationBufferWindowMemory,\n",
    "                              ConversationSummaryMemory,\n",
    "                              ConversationTokenBufferMemory\n",
    "                              )\n",
    "import tiktoken\n",
    "from langchain.chains import ConversationChain"
   ]
  },
  {
   "cell_type": "code",
   "execution_count": 2,
   "metadata": {},
   "outputs": [
    {
     "data": {
      "text/plain": [
       "True"
      ]
     },
     "execution_count": 2,
     "metadata": {},
     "output_type": "execute_result"
    }
   ],
   "source": [
    "load_dotenv(dotenv_path=find_dotenv(filename=\"../.env\"))"
   ]
  },
  {
   "cell_type": "code",
   "execution_count": 3,
   "metadata": {},
   "outputs": [],
   "source": [
    "llm=OpenAI(temperature=0,model=\"gpt-3.5-turbo-instruct\")"
   ]
  },
  {
   "cell_type": "markdown",
   "metadata": {},
   "source": [
    "### ConversationBufferMemory "
   ]
  },
  {
   "cell_type": "code",
   "execution_count": 4,
   "metadata": {},
   "outputs": [],
   "source": [
    "conversation1=ConversationChain(\n",
    "    llm=llm,\n",
    "    verbose=True,\n",
    "    memory=ConversationBufferMemory()\n",
    ")"
   ]
  },
  {
   "cell_type": "code",
   "execution_count": 5,
   "metadata": {},
   "outputs": [
    {
     "name": "stdout",
     "output_type": "stream",
     "text": [
      "The following is a friendly conversation between a human and an AI. The AI is talkative and provides lots of specific details from its context. If the AI does not know the answer to a question, it truthfully says it does not know.\n",
      "\n",
      "Current conversation:\n",
      "{history}\n",
      "Human: {input}\n",
      "AI:\n"
     ]
    }
   ],
   "source": [
    "print(conversation1.prompt.template)"
   ]
  },
  {
   "cell_type": "code",
   "execution_count": 7,
   "metadata": {},
   "outputs": [
    {
     "data": {
      "text/plain": [
       "''"
      ]
     },
     "execution_count": 7,
     "metadata": {},
     "output_type": "execute_result"
    }
   ],
   "source": [
    "conversation1.memory.buffer"
   ]
  },
  {
   "cell_type": "code",
   "execution_count": 8,
   "metadata": {},
   "outputs": [
    {
     "data": {
      "text/plain": [
       "PromptTemplate(input_variables=['history', 'input'], template='The following is a friendly conversation between a human and an AI. The AI is talkative and provides lots of specific details from its context. If the AI does not know the answer to a question, it truthfully says it does not know.\\n\\nCurrent conversation:\\n{history}\\nHuman: {input}\\nAI:')"
      ]
     },
     "execution_count": 8,
     "metadata": {},
     "output_type": "execute_result"
    }
   ],
   "source": [
    "conversation1.prompt"
   ]
  },
  {
   "cell_type": "code",
   "execution_count": 9,
   "metadata": {},
   "outputs": [
    {
     "name": "stdout",
     "output_type": "stream",
     "text": [
      "\n",
      "\n",
      "\u001b[1m> Entering new ConversationChain chain...\u001b[0m\n",
      "Prompt after formatting:\n",
      "\u001b[32;1m\u001b[1;3mThe following is a friendly conversation between a human and an AI. The AI is talkative and provides lots of specific details from its context. If the AI does not know the answer to a question, it truthfully says it does not know.\n",
      "\n",
      "Current conversation:\n",
      "\n",
      "Human: Hello AI\n",
      "AI:\u001b[0m\n",
      "\n",
      "\u001b[1m> Finished chain.\u001b[0m\n"
     ]
    }
   ],
   "source": [
    "resp1=conversation1.invoke(input=\"Hello AI\")"
   ]
  },
  {
   "cell_type": "code",
   "execution_count": 10,
   "metadata": {},
   "outputs": [
    {
     "name": "stdout",
     "output_type": "stream",
     "text": [
      "{'input': 'Hello AI', 'history': '', 'response': \" Hello there! It's nice to meet you. I am an AI created by a team of programmers at OpenAI. I am constantly learning and improving my abilities through machine learning algorithms and data analysis. How can I assist you today?\"}\n"
     ]
    }
   ],
   "source": [
    "print(resp1)"
   ]
  },
  {
   "cell_type": "code",
   "execution_count": 11,
   "metadata": {},
   "outputs": [
    {
     "name": "stdout",
     "output_type": "stream",
     "text": [
      "\n",
      "\n",
      "\u001b[1m> Entering new ConversationChain chain...\u001b[0m\n",
      "Prompt after formatting:\n",
      "\u001b[32;1m\u001b[1;3mThe following is a friendly conversation between a human and an AI. The AI is talkative and provides lots of specific details from its context. If the AI does not know the answer to a question, it truthfully says it does not know.\n",
      "\n",
      "Current conversation:\n",
      "Human: Hello AI\n",
      "AI:  Hello there! It's nice to meet you. I am an AI created by a team of programmers at OpenAI. I am constantly learning and improving my abilities through machine learning algorithms and data analysis. How can I assist you today?\n",
      "Human: Which is the largest Planet in the solar system?\n",
      "AI:\u001b[0m\n",
      "\n",
      "\u001b[1m> Finished chain.\u001b[0m\n"
     ]
    }
   ],
   "source": [
    "resp2=conversation1.invoke(input=\"Which is the largest Planet in the solar system?\")"
   ]
  },
  {
   "cell_type": "code",
   "execution_count": 12,
   "metadata": {},
   "outputs": [
    {
     "name": "stdout",
     "output_type": "stream",
     "text": [
      "{'input': 'Which is the largest Planet in the solar system?', 'history': \"Human: Hello AI\\nAI:  Hello there! It's nice to meet you. I am an AI created by a team of programmers at OpenAI. I am constantly learning and improving my abilities through machine learning algorithms and data analysis. How can I assist you today?\", 'response': ' The largest planet in our solar system is Jupiter. It has a diameter of 139,822 kilometers and is more than twice as massive as all the other planets combined. It also has the most moons, with a total of 79 known moons. Is there anything else you would like to know about Jupiter or the solar system?'}\n"
     ]
    }
   ],
   "source": [
    "print(resp2)"
   ]
  },
  {
   "cell_type": "code",
   "execution_count": 13,
   "metadata": {},
   "outputs": [
    {
     "name": "stdout",
     "output_type": "stream",
     "text": [
      "\n",
      "\n",
      "\u001b[1m> Entering new ConversationChain chain...\u001b[0m\n",
      "Prompt after formatting:\n",
      "\u001b[32;1m\u001b[1;3mThe following is a friendly conversation between a human and an AI. The AI is talkative and provides lots of specific details from its context. If the AI does not know the answer to a question, it truthfully says it does not know.\n",
      "\n",
      "Current conversation:\n",
      "Human: Hello AI\n",
      "AI:  Hello there! It's nice to meet you. I am an AI created by a team of programmers at OpenAI. I am constantly learning and improving my abilities through machine learning algorithms and data analysis. How can I assist you today?\n",
      "Human: Which is the largest Planet in the solar system?\n",
      "AI:  The largest planet in our solar system is Jupiter. It has a diameter of 139,822 kilometers and is more than twice as massive as all the other planets combined. It also has the most moons, with a total of 79 known moons. Is there anything else you would like to know about Jupiter or the solar system?\n",
      "Human: Which is the 2nd largest?\n",
      "AI:\u001b[0m\n",
      "\n",
      "\u001b[1m> Finished chain.\u001b[0m\n"
     ]
    }
   ],
   "source": [
    "resp3=conversation1.invoke(input=\"Which is the 2nd largest?\")"
   ]
  },
  {
   "cell_type": "code",
   "execution_count": 17,
   "metadata": {},
   "outputs": [
    {
     "data": {
      "text/plain": [
       "\"Human: Hello AI\\nAI:  Hello there! It's nice to meet you. I am an AI created by a team of programmers at OpenAI. I am constantly learning and improving my abilities through machine learning algorithms and data analysis. How can I assist you today?\\nHuman: Which is the largest Planet in the solar system?\\nAI:  The largest planet in our solar system is Jupiter. It has a diameter of 139,822 kilometers and is more than twice as massive as all the other planets combined. It also has the most moons, with a total of 79 known moons. Is there anything else you would like to know about Jupiter or the solar system?\\nHuman: Which is the 2nd largest?\\nAI:  The second largest planet in our solar system is Saturn. It has a diameter of 116,464 kilometers and is known for its iconic rings made up of ice and rock particles. It also has 82 known moons. Is there anything else you would like to know about Saturn or the solar system?\""
      ]
     },
     "execution_count": 17,
     "metadata": {},
     "output_type": "execute_result"
    }
   ],
   "source": [
    "conversation1.memory.buffer"
   ]
  },
  {
   "cell_type": "code",
   "execution_count": 12,
   "metadata": {},
   "outputs": [
    {
     "name": "stdout",
     "output_type": "stream",
     "text": [
      "Human: Hello AI\n",
      "AI:  Hello there! It's nice to meet you. I am an AI created by a team of programmers at OpenAI. My purpose is to assist and communicate with humans in a friendly and helpful manner. How can I assist you today?\n",
      "Human: Which is the largest Planet in the solar system?\n",
      "AI:  The largest planet in our solar system is Jupiter. It has a diameter of 139,822 kilometers and is more than twice as massive as all the other planets combined. It also has the most moons, with a total of 79 known moons. Is there anything else you would like to know about Jupiter or the solar system?\n"
     ]
    }
   ],
   "source": [
    "print(resp3['history'])"
   ]
  },
  {
   "cell_type": "code",
   "execution_count": 13,
   "metadata": {},
   "outputs": [
    {
     "name": "stdout",
     "output_type": "stream",
     "text": [
      "{'input': 'Which is the 2nd largest?', 'history': \"Human: Hello AI\\nAI:  Hello there! It's nice to meet you. I am an AI created by a team of programmers at OpenAI. My purpose is to assist and communicate with humans in a friendly and helpful manner. How can I assist you today?\\nHuman: Which is the largest Planet in the solar system?\\nAI:  The largest planet in our solar system is Jupiter. It has a diameter of 139,822 kilometers and is more than twice as massive as all the other planets combined. It also has the most moons, with a total of 79 known moons. Is there anything else you would like to know about Jupiter or the solar system?\", 'response': ' The second largest planet in our solar system is Saturn. It has a diameter of 116,464 kilometers and is known for its beautiful rings made of ice and rock particles. It also has 82 known moons. Is there anything else you would like to know about Saturn or the solar system?'}\n"
     ]
    }
   ],
   "source": [
    "print(resp3)"
   ]
  },
  {
   "cell_type": "code",
   "execution_count": 14,
   "metadata": {},
   "outputs": [
    {
     "name": "stdout",
     "output_type": "stream",
     "text": [
      "Which is the 2nd largest?\n"
     ]
    }
   ],
   "source": [
    "print(resp3['input'])"
   ]
  },
  {
   "cell_type": "code",
   "execution_count": 15,
   "metadata": {},
   "outputs": [
    {
     "name": "stdout",
     "output_type": "stream",
     "text": [
      "Human: Hello AI\n",
      "AI:  Hello there! It's nice to meet you. I am an AI created by a team of programmers at OpenAI. My purpose is to assist and communicate with humans in a friendly and helpful manner. How can I assist you today?\n",
      "Human: Which is the largest Planet in the solar system?\n",
      "AI:  The largest planet in our solar system is Jupiter. It has a diameter of 139,822 kilometers and is more than twice as massive as all the other planets combined. It also has the most moons, with a total of 79 known moons. Is there anything else you would like to know about Jupiter or the solar system?\n"
     ]
    }
   ],
   "source": [
    "print(resp3['history'])"
   ]
  },
  {
   "cell_type": "code",
   "execution_count": 16,
   "metadata": {},
   "outputs": [
    {
     "name": "stdout",
     "output_type": "stream",
     "text": [
      " The second largest planet in our solar system is Saturn. It has a diameter of 116,464 kilometers and is known for its beautiful rings made of ice and rock particles. It also has 82 known moons. Is there anything else you would like to know about Saturn or the solar system?\n"
     ]
    }
   ],
   "source": [
    "print(resp3['response'])"
   ]
  },
  {
   "cell_type": "markdown",
   "metadata": {},
   "source": [
    "### ConversationBufferWindowMemory"
   ]
  },
  {
   "cell_type": "code",
   "execution_count": 75,
   "metadata": {},
   "outputs": [],
   "source": [
    "conversation2=ConversationChain(\n",
    "    llm=llm,\n",
    "    verbose=True,\n",
    "    memory=ConversationBufferWindowMemory(k=1)\n",
    ")"
   ]
  },
  {
   "cell_type": "code",
   "execution_count": 76,
   "metadata": {},
   "outputs": [
    {
     "name": "stdout",
     "output_type": "stream",
     "text": [
      "The following is a friendly conversation between a human and an AI. The AI is talkative and provides lots of specific details from its context. If the AI does not know the answer to a question, it truthfully says it does not know.\n",
      "\n",
      "Current conversation:\n",
      "{history}\n",
      "Human: {input}\n",
      "AI:\n"
     ]
    }
   ],
   "source": [
    "print(conversation2.prompt.template)"
   ]
  },
  {
   "cell_type": "code",
   "execution_count": 77,
   "metadata": {},
   "outputs": [
    {
     "name": "stdout",
     "output_type": "stream",
     "text": [
      "The following is a friendly conversation between a human and an AI. The AI is talkative and provides lots of specific details from its context. If the AI does not know the answer to a question, it truthfully says it does not know.\n",
      "\n",
      "Current conversation:\n",
      "{history}\n",
      "Human: {input}\n",
      "AI:\n"
     ]
    }
   ],
   "source": [
    "print(conversation1.prompt.template)"
   ]
  },
  {
   "cell_type": "code",
   "execution_count": 78,
   "metadata": {},
   "outputs": [
    {
     "name": "stdout",
     "output_type": "stream",
     "text": [
      "\n",
      "\n",
      "\u001b[1m> Entering new ConversationChain chain...\u001b[0m\n",
      "Prompt after formatting:\n",
      "\u001b[32;1m\u001b[1;3mThe following is a friendly conversation between a human and an AI. The AI is talkative and provides lots of specific details from its context. If the AI does not know the answer to a question, it truthfully says it does not know.\n",
      "\n",
      "Current conversation:\n",
      "\n",
      "Human: Hello AI\n",
      "AI:\u001b[0m\n",
      "\n",
      "\u001b[1m> Finished chain.\u001b[0m\n"
     ]
    }
   ],
   "source": [
    "resp1=conversation2.invoke(input=\"Hello AI\")"
   ]
  },
  {
   "cell_type": "code",
   "execution_count": 79,
   "metadata": {},
   "outputs": [
    {
     "name": "stdout",
     "output_type": "stream",
     "text": [
      "Hello AI\n"
     ]
    }
   ],
   "source": [
    "print(resp1['input'])"
   ]
  },
  {
   "cell_type": "code",
   "execution_count": 80,
   "metadata": {},
   "outputs": [
    {
     "name": "stdout",
     "output_type": "stream",
     "text": [
      "\n"
     ]
    }
   ],
   "source": [
    "print(resp1['history'])"
   ]
  },
  {
   "cell_type": "code",
   "execution_count": 81,
   "metadata": {},
   "outputs": [
    {
     "name": "stdout",
     "output_type": "stream",
     "text": [
      " Hello there! It's nice to meet you. I am an AI created by a team of programmers at OpenAI. My purpose is to assist and communicate with humans in a friendly and helpful manner. How can I assist you today?\n"
     ]
    }
   ],
   "source": [
    "print(resp1['response'])"
   ]
  },
  {
   "cell_type": "code",
   "execution_count": 82,
   "metadata": {},
   "outputs": [
    {
     "name": "stdout",
     "output_type": "stream",
     "text": [
      "\n",
      "\n",
      "\u001b[1m> Entering new ConversationChain chain...\u001b[0m\n",
      "Prompt after formatting:\n",
      "\u001b[32;1m\u001b[1;3mThe following is a friendly conversation between a human and an AI. The AI is talkative and provides lots of specific details from its context. If the AI does not know the answer to a question, it truthfully says it does not know.\n",
      "\n",
      "Current conversation:\n",
      "Human: Hello AI\n",
      "AI:  Hello there! It's nice to meet you. I am an AI created by a team of programmers at OpenAI. My purpose is to assist and communicate with humans in a friendly and helpful manner. How can I assist you today?\n",
      "Human: Which is the largest Planet in the solar system?\n",
      "AI:\u001b[0m\n",
      "\n",
      "\u001b[1m> Finished chain.\u001b[0m\n"
     ]
    }
   ],
   "source": [
    "resp2=conversation2.invoke(input=\"Which is the largest Planet in the solar system?\")"
   ]
  },
  {
   "cell_type": "code",
   "execution_count": 83,
   "metadata": {},
   "outputs": [
    {
     "name": "stdout",
     "output_type": "stream",
     "text": [
      "Which is the largest Planet in the solar system?\n"
     ]
    }
   ],
   "source": [
    "print(resp2['input'])"
   ]
  },
  {
   "cell_type": "code",
   "execution_count": 84,
   "metadata": {},
   "outputs": [
    {
     "name": "stdout",
     "output_type": "stream",
     "text": [
      "Human: Hello AI\n",
      "AI:  Hello there! It's nice to meet you. I am an AI created by a team of programmers at OpenAI. My purpose is to assist and communicate with humans in a friendly and helpful manner. How can I assist you today?\n"
     ]
    }
   ],
   "source": [
    "print(resp2['history'])"
   ]
  },
  {
   "cell_type": "code",
   "execution_count": 85,
   "metadata": {},
   "outputs": [
    {
     "name": "stdout",
     "output_type": "stream",
     "text": [
      " The largest planet in our solar system is Jupiter. It has a diameter of 139,822 kilometers and is more than twice as massive as all the other planets combined. It also has the most moons, with a total of 79 known moons. Is there anything else you would like to know about Jupiter or the solar system?\n"
     ]
    }
   ],
   "source": [
    "print(resp2['response'])"
   ]
  },
  {
   "cell_type": "code",
   "execution_count": 86,
   "metadata": {},
   "outputs": [
    {
     "name": "stdout",
     "output_type": "stream",
     "text": [
      "\n",
      "\n",
      "\u001b[1m> Entering new ConversationChain chain...\u001b[0m\n",
      "Prompt after formatting:\n",
      "\u001b[32;1m\u001b[1;3mThe following is a friendly conversation between a human and an AI. The AI is talkative and provides lots of specific details from its context. If the AI does not know the answer to a question, it truthfully says it does not know.\n",
      "\n",
      "Current conversation:\n",
      "Human: Which is the largest Planet in the solar system?\n",
      "AI:  The largest planet in our solar system is Jupiter. It has a diameter of 139,822 kilometers and is more than twice as massive as all the other planets combined. It also has the most moons, with a total of 79 known moons. Is there anything else you would like to know about Jupiter or the solar system?\n",
      "Human: Which is the 2nd largest?\n",
      "AI:\u001b[0m\n",
      "\n",
      "\u001b[1m> Finished chain.\u001b[0m\n"
     ]
    }
   ],
   "source": [
    "resp3=conversation2.invoke(input=\"Which is the 2nd largest?\")"
   ]
  },
  {
   "cell_type": "code",
   "execution_count": 87,
   "metadata": {},
   "outputs": [
    {
     "name": "stdout",
     "output_type": "stream",
     "text": [
      "Which is the 2nd largest?\n"
     ]
    }
   ],
   "source": [
    "print(resp3['input'])"
   ]
  },
  {
   "cell_type": "code",
   "execution_count": 88,
   "metadata": {},
   "outputs": [
    {
     "name": "stdout",
     "output_type": "stream",
     "text": [
      "Human: Which is the largest Planet in the solar system?\n",
      "AI:  The largest planet in our solar system is Jupiter. It has a diameter of 139,822 kilometers and is more than twice as massive as all the other planets combined. It also has the most moons, with a total of 79 known moons. Is there anything else you would like to know about Jupiter or the solar system?\n"
     ]
    }
   ],
   "source": [
    "print(resp3['history'])"
   ]
  },
  {
   "cell_type": "code",
   "execution_count": 89,
   "metadata": {},
   "outputs": [
    {
     "name": "stdout",
     "output_type": "stream",
     "text": [
      " The second largest planet in our solar system is Saturn. It has a diameter of 116,464 kilometers and is known for its iconic rings made up of ice and rock particles. It also has 82 known moons. Would you like to know more about Saturn or any other planets in our solar system?\n"
     ]
    }
   ],
   "source": [
    "print(resp3['response'])"
   ]
  },
  {
   "cell_type": "markdown",
   "metadata": {},
   "source": [
    "### ConversationSummaryMemory"
   ]
  },
  {
   "cell_type": "code",
   "execution_count": 90,
   "metadata": {},
   "outputs": [],
   "source": [
    "conversation3=ConversationChain(\n",
    "    llm=llm,\n",
    "    verbose=True,\n",
    "    memory=ConversationSummaryMemory(llm=llm)\n",
    ")"
   ]
  },
  {
   "cell_type": "code",
   "execution_count": 91,
   "metadata": {},
   "outputs": [
    {
     "name": "stdout",
     "output_type": "stream",
     "text": [
      "The following is a friendly conversation between a human and an AI. The AI is talkative and provides lots of specific details from its context. If the AI does not know the answer to a question, it truthfully says it does not know.\n",
      "\n",
      "Current conversation:\n",
      "{history}\n",
      "Human: {input}\n",
      "AI:\n"
     ]
    }
   ],
   "source": [
    "print(conversation3.prompt.template)"
   ]
  },
  {
   "cell_type": "code",
   "execution_count": 92,
   "metadata": {},
   "outputs": [
    {
     "name": "stdout",
     "output_type": "stream",
     "text": [
      "\n",
      "\n",
      "\u001b[1m> Entering new ConversationChain chain...\u001b[0m\n",
      "Prompt after formatting:\n",
      "\u001b[32;1m\u001b[1;3mThe following is a friendly conversation between a human and an AI. The AI is talkative and provides lots of specific details from its context. If the AI does not know the answer to a question, it truthfully says it does not know.\n",
      "\n",
      "Current conversation:\n",
      "\n",
      "Human: Hello AI\n",
      "AI:\u001b[0m\n",
      "\n",
      "\u001b[1m> Finished chain.\u001b[0m\n"
     ]
    }
   ],
   "source": [
    "resp1=conversation3.invoke(input=\"Hello AI\")"
   ]
  },
  {
   "cell_type": "code",
   "execution_count": 93,
   "metadata": {},
   "outputs": [
    {
     "name": "stdout",
     "output_type": "stream",
     "text": [
      "Hello AI\n"
     ]
    }
   ],
   "source": [
    "print(resp1['input'])"
   ]
  },
  {
   "cell_type": "code",
   "execution_count": 94,
   "metadata": {},
   "outputs": [
    {
     "name": "stdout",
     "output_type": "stream",
     "text": [
      "\n"
     ]
    }
   ],
   "source": [
    "print(resp1['history'])"
   ]
  },
  {
   "cell_type": "code",
   "execution_count": 95,
   "metadata": {},
   "outputs": [
    {
     "name": "stdout",
     "output_type": "stream",
     "text": [
      " Hello there! It's nice to meet you. I am an AI created by a team of programmers at OpenAI. I am constantly learning and improving my abilities through machine learning algorithms and data analysis. How can I assist you today?\n"
     ]
    }
   ],
   "source": [
    "print(resp1['response'])"
   ]
  },
  {
   "cell_type": "code",
   "execution_count": 96,
   "metadata": {},
   "outputs": [
    {
     "name": "stdout",
     "output_type": "stream",
     "text": [
      "\n",
      "\n",
      "\u001b[1m> Entering new ConversationChain chain...\u001b[0m\n",
      "Prompt after formatting:\n",
      "\u001b[32;1m\u001b[1;3mThe following is a friendly conversation between a human and an AI. The AI is talkative and provides lots of specific details from its context. If the AI does not know the answer to a question, it truthfully says it does not know.\n",
      "\n",
      "Current conversation:\n",
      "\n",
      "The human greets the AI and the AI responds by introducing itself as a constantly learning and improving entity created by a team of programmers at OpenAI. The AI offers its assistance to the human.\n",
      "Human: Which is the largest Planet in the solar system?\n",
      "AI:\u001b[0m\n",
      "\n",
      "\u001b[1m> Finished chain.\u001b[0m\n"
     ]
    }
   ],
   "source": [
    "resp2=conversation3.invoke(input=\"Which is the largest Planet in the solar system?\")"
   ]
  },
  {
   "cell_type": "code",
   "execution_count": 97,
   "metadata": {},
   "outputs": [
    {
     "name": "stdout",
     "output_type": "stream",
     "text": [
      "Which is the largest Planet in the solar system?\n"
     ]
    }
   ],
   "source": [
    "print(resp2['input'])"
   ]
  },
  {
   "cell_type": "code",
   "execution_count": 98,
   "metadata": {},
   "outputs": [
    {
     "name": "stdout",
     "output_type": "stream",
     "text": [
      "\n",
      "The human greets the AI and the AI responds by introducing itself as a constantly learning and improving entity created by a team of programmers at OpenAI. The AI offers its assistance to the human.\n"
     ]
    }
   ],
   "source": [
    "print(resp2['history'])"
   ]
  },
  {
   "cell_type": "code",
   "execution_count": 99,
   "metadata": {},
   "outputs": [
    {
     "name": "stdout",
     "output_type": "stream",
     "text": [
      " The largest planet in the solar system is Jupiter. It has a diameter of 139,822 kilometers and is more than twice as massive as all the other planets combined. It also has the most moons, with a total of 79 known moons.\n"
     ]
    }
   ],
   "source": [
    "print(resp2['response'])"
   ]
  },
  {
   "cell_type": "code",
   "execution_count": 100,
   "metadata": {},
   "outputs": [
    {
     "name": "stdout",
     "output_type": "stream",
     "text": [
      "\n",
      "\n",
      "\u001b[1m> Entering new ConversationChain chain...\u001b[0m\n",
      "Prompt after formatting:\n",
      "\u001b[32;1m\u001b[1;3mThe following is a friendly conversation between a human and an AI. The AI is talkative and provides lots of specific details from its context. If the AI does not know the answer to a question, it truthfully says it does not know.\n",
      "\n",
      "Current conversation:\n",
      "\n",
      "The human greets the AI and the AI responds by introducing itself as a constantly learning and improving entity created by a team of programmers at OpenAI. The AI offers its assistance to the human. The human asks about the largest planet in the solar system and the AI responds with information about Jupiter, including its size, mass, and number of moons.\n",
      "Human: Which is the 2nd largest?\n",
      "AI:\u001b[0m\n",
      "\n",
      "\u001b[1m> Finished chain.\u001b[0m\n"
     ]
    }
   ],
   "source": [
    "resp3=conversation3.invoke(input=\"Which is the 2nd largest?\")"
   ]
  },
  {
   "cell_type": "code",
   "execution_count": 101,
   "metadata": {},
   "outputs": [
    {
     "name": "stdout",
     "output_type": "stream",
     "text": [
      "Which is the 2nd largest?\n"
     ]
    }
   ],
   "source": [
    "print(resp3['input'])"
   ]
  },
  {
   "cell_type": "code",
   "execution_count": 102,
   "metadata": {},
   "outputs": [
    {
     "name": "stdout",
     "output_type": "stream",
     "text": [
      "\n",
      "The human greets the AI and the AI responds by introducing itself as a constantly learning and improving entity created by a team of programmers at OpenAI. The AI offers its assistance to the human. The human asks about the largest planet in the solar system and the AI responds with information about Jupiter, including its size, mass, and number of moons.\n"
     ]
    }
   ],
   "source": [
    "print(resp3['history'])"
   ]
  },
  {
   "cell_type": "code",
   "execution_count": 103,
   "metadata": {},
   "outputs": [
    {
     "name": "stdout",
     "output_type": "stream",
     "text": [
      " The second largest planet in our solar system is Saturn. It has a diameter of 116,464 kilometers and a mass of 95 times that of Earth. It also has 82 known moons, the most of any planet in our solar system.\n"
     ]
    }
   ],
   "source": [
    "print(resp3['response'])"
   ]
  },
  {
   "cell_type": "markdown",
   "metadata": {},
   "source": [
    "### ConversationTokenBufferMemory"
   ]
  },
  {
   "cell_type": "code",
   "execution_count": 104,
   "metadata": {},
   "outputs": [],
   "source": [
    "conversation4=ConversationChain(\n",
    "    llm=llm,\n",
    "    verbose=True,\n",
    "    memory=ConversationTokenBufferMemory(llm=llm, \n",
    "                                         max_token_limit=30)\n",
    ")"
   ]
  },
  {
   "cell_type": "code",
   "execution_count": 106,
   "metadata": {},
   "outputs": [
    {
     "name": "stdout",
     "output_type": "stream",
     "text": [
      "The following is a friendly conversation between a human and an AI. The AI is talkative and provides lots of specific details from its context. If the AI does not know the answer to a question, it truthfully says it does not know.\n",
      "\n",
      "Current conversation:\n",
      "{history}\n",
      "Human: {input}\n",
      "AI:\n"
     ]
    }
   ],
   "source": [
    "print(conversation4.prompt.template)"
   ]
  },
  {
   "cell_type": "code",
   "execution_count": 107,
   "metadata": {},
   "outputs": [
    {
     "name": "stdout",
     "output_type": "stream",
     "text": [
      "\n",
      "\n",
      "\u001b[1m> Entering new ConversationChain chain...\u001b[0m\n",
      "Prompt after formatting:\n",
      "\u001b[32;1m\u001b[1;3mThe following is a friendly conversation between a human and an AI. The AI is talkative and provides lots of specific details from its context. If the AI does not know the answer to a question, it truthfully says it does not know.\n",
      "\n",
      "Current conversation:\n",
      "\n",
      "Human: Hello AI\n",
      "AI:\u001b[0m\n",
      "\n",
      "\u001b[1m> Finished chain.\u001b[0m\n"
     ]
    }
   ],
   "source": [
    "resp1=conversation4.invoke(input=\"Hello AI\")"
   ]
  },
  {
   "cell_type": "code",
   "execution_count": 108,
   "metadata": {},
   "outputs": [
    {
     "name": "stdout",
     "output_type": "stream",
     "text": [
      "Hello AI\n"
     ]
    }
   ],
   "source": [
    "print(resp1['input'])"
   ]
  },
  {
   "cell_type": "code",
   "execution_count": 109,
   "metadata": {},
   "outputs": [
    {
     "name": "stdout",
     "output_type": "stream",
     "text": [
      "\n"
     ]
    }
   ],
   "source": [
    "print(resp1['history'])"
   ]
  },
  {
   "cell_type": "code",
   "execution_count": 110,
   "metadata": {},
   "outputs": [
    {
     "name": "stdout",
     "output_type": "stream",
     "text": [
      " Hello there! It's nice to meet you. I am an AI created by a team of programmers at OpenAI. My purpose is to assist and communicate with humans in a friendly and helpful manner. How can I assist you today?\n"
     ]
    }
   ],
   "source": [
    "print(resp1['response'])"
   ]
  },
  {
   "cell_type": "code",
   "execution_count": 111,
   "metadata": {},
   "outputs": [
    {
     "name": "stdout",
     "output_type": "stream",
     "text": [
      "\n",
      "\n",
      "\u001b[1m> Entering new ConversationChain chain...\u001b[0m\n",
      "Prompt after formatting:\n",
      "\u001b[32;1m\u001b[1;3mThe following is a friendly conversation between a human and an AI. The AI is talkative and provides lots of specific details from its context. If the AI does not know the answer to a question, it truthfully says it does not know.\n",
      "\n",
      "Current conversation:\n",
      "\n",
      "Human: Which is the largest Planet in the solar system?\n",
      "AI:\u001b[0m\n",
      "\n",
      "\u001b[1m> Finished chain.\u001b[0m\n"
     ]
    }
   ],
   "source": [
    "resp2=conversation4.invoke(input=\"Which is the largest Planet in the solar system?\")"
   ]
  },
  {
   "cell_type": "code",
   "execution_count": 114,
   "metadata": {},
   "outputs": [
    {
     "name": "stdout",
     "output_type": "stream",
     "text": [
      "Which is the largest Planet in the solar system?\n"
     ]
    }
   ],
   "source": [
    "print(resp2['input'])"
   ]
  },
  {
   "cell_type": "code",
   "execution_count": 115,
   "metadata": {},
   "outputs": [
    {
     "name": "stdout",
     "output_type": "stream",
     "text": [
      "\n"
     ]
    }
   ],
   "source": [
    "print(resp2['history'])"
   ]
  },
  {
   "cell_type": "code",
   "execution_count": 116,
   "metadata": {},
   "outputs": [
    {
     "name": "stdout",
     "output_type": "stream",
     "text": [
      " The largest planet in the solar system is Jupiter. It has a diameter of 139,822 kilometers and is more than twice as massive as all the other planets combined. It is also known for its iconic Great Red Spot, a massive storm that has been raging for hundreds of years. Jupiter is the fifth planet from the Sun and is composed mostly of gas, with no solid surface. It also has a strong magnetic field and more than 75 moons, the largest of which is Ganymede.\n"
     ]
    }
   ],
   "source": [
    "print(resp2['response'])"
   ]
  },
  {
   "cell_type": "code",
   "execution_count": 117,
   "metadata": {},
   "outputs": [
    {
     "name": "stdout",
     "output_type": "stream",
     "text": [
      "\n",
      "\n",
      "\u001b[1m> Entering new ConversationChain chain...\u001b[0m\n",
      "Prompt after formatting:\n",
      "\u001b[32;1m\u001b[1;3mThe following is a friendly conversation between a human and an AI. The AI is talkative and provides lots of specific details from its context. If the AI does not know the answer to a question, it truthfully says it does not know.\n",
      "\n",
      "Current conversation:\n",
      "\n",
      "Human: Which is the 2nd largest?\n",
      "AI:\u001b[0m\n",
      "\n",
      "\u001b[1m> Finished chain.\u001b[0m\n"
     ]
    }
   ],
   "source": [
    "resp3=conversation4.invoke(input=\"Which is the 2nd largest?\")"
   ]
  },
  {
   "cell_type": "code",
   "execution_count": 119,
   "metadata": {},
   "outputs": [
    {
     "name": "stdout",
     "output_type": "stream",
     "text": [
      "Which is the 2nd largest?\n"
     ]
    }
   ],
   "source": [
    "print(resp3['input'])"
   ]
  },
  {
   "cell_type": "code",
   "execution_count": null,
   "metadata": {},
   "outputs": [
    {
     "name": "stdout",
     "output_type": "stream",
     "text": [
      "\n",
      "The human greets the AI and the AI responds by introducing itself as a constantly learning and improving entity created by a team of programmers at OpenAI. The AI offers its assistance to the human. The human asks about the largest planet in the solar system and the AI responds with information about Jupiter, including its size, mass, and number of moons.\n"
     ]
    }
   ],
   "source": [
    "print(resp3['history'])"
   ]
  },
  {
   "cell_type": "code",
   "execution_count": 120,
   "metadata": {},
   "outputs": [
    {
     "name": "stdout",
     "output_type": "stream",
     "text": [
      " The 2nd largest is a subjective term and can refer to different things. Can you please specify what you are referring to? Is it the 2nd largest country in terms of land area, population, or economy? Or perhaps the 2nd largest animal or object? Please provide more context so I can give you an accurate answer.\n"
     ]
    }
   ],
   "source": [
    "print(resp3['response'])"
   ]
  },
  {
   "cell_type": "code",
   "execution_count": null,
   "metadata": {},
   "outputs": [],
   "source": []
  }
 ],
 "metadata": {
  "kernelspec": {
   "display_name": "oaivenv",
   "language": "python",
   "name": "python3"
  },
  "language_info": {
   "codemirror_mode": {
    "name": "ipython",
    "version": 3
   },
   "file_extension": ".py",
   "mimetype": "text/x-python",
   "name": "python",
   "nbconvert_exporter": "python",
   "pygments_lexer": "ipython3",
   "version": "3.11.9"
  }
 },
 "nbformat": 4,
 "nbformat_minor": 2
}
