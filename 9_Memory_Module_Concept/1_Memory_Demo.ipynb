{
 "cells": [
  {
   "cell_type": "code",
   "execution_count": 5,
   "metadata": {},
   "outputs": [],
   "source": [
    "from dotenv import load_dotenv,find_dotenv\n",
    "from langchain_openai import OpenAI\n",
    "from langchain.memory import (ConversationBufferMemory,\n",
    "                              ConversationBufferWindowMemory,\n",
    "                              ConversationSummaryMemory,\n",
    "                              ConversationTokenBufferMemory\n",
    "                              )\n",
    "import tiktoken\n",
    "from langchain.chains import ConversationChain"
   ]
  },
  {
   "cell_type": "code",
   "execution_count": 2,
   "metadata": {},
   "outputs": [
    {
     "data": {
      "text/plain": [
       "True"
      ]
     },
     "execution_count": 2,
     "metadata": {},
     "output_type": "execute_result"
    }
   ],
   "source": [
    "load_dotenv(dotenv_path=find_dotenv(filename=\"../.env\"))"
   ]
  },
  {
   "cell_type": "code",
   "execution_count": 4,
   "metadata": {},
   "outputs": [],
   "source": [
    "llm=OpenAI(temperature=0,model=\"gpt-3.5-turbo-instruct\")"
   ]
  },
  {
   "cell_type": "code",
   "execution_count": 21,
   "metadata": {},
   "outputs": [],
   "source": [
    "conversation=ConversationChain(\n",
    "    llm=llm,\n",
    "    verbose=True,\n",
    "    memory=ConversationBufferMemory()\n",
    ")"
   ]
  },
  {
   "cell_type": "code",
   "execution_count": 22,
   "metadata": {},
   "outputs": [
    {
     "name": "stdout",
     "output_type": "stream",
     "text": [
      "The following is a friendly conversation between a human and an AI. The AI is talkative and provides lots of specific details from its context. If the AI does not know the answer to a question, it truthfully says it does not know.\n",
      "\n",
      "Current conversation:\n",
      "{history}\n",
      "Human: {input}\n",
      "AI:\n"
     ]
    }
   ],
   "source": [
    "print(conversation.prompt.template)"
   ]
  },
  {
   "cell_type": "code",
   "execution_count": 23,
   "metadata": {},
   "outputs": [
    {
     "data": {
      "text/plain": [
       "PromptTemplate(input_variables=['history', 'input'], template='The following is a friendly conversation between a human and an AI. The AI is talkative and provides lots of specific details from its context. If the AI does not know the answer to a question, it truthfully says it does not know.\\n\\nCurrent conversation:\\n{history}\\nHuman: {input}\\nAI:')"
      ]
     },
     "execution_count": 23,
     "metadata": {},
     "output_type": "execute_result"
    }
   ],
   "source": [
    "conversation.prompt"
   ]
  },
  {
   "cell_type": "code",
   "execution_count": 24,
   "metadata": {},
   "outputs": [
    {
     "name": "stdout",
     "output_type": "stream",
     "text": [
      "\n",
      "\n",
      "\u001b[1m> Entering new ConversationChain chain...\u001b[0m\n",
      "Prompt after formatting:\n",
      "\u001b[32;1m\u001b[1;3mThe following is a friendly conversation between a human and an AI. The AI is talkative and provides lots of specific details from its context. If the AI does not know the answer to a question, it truthfully says it does not know.\n",
      "\n",
      "Current conversation:\n",
      "\n",
      "Human: Hello AI\n",
      "AI:\u001b[0m\n",
      "\n",
      "\u001b[1m> Finished chain.\u001b[0m\n"
     ]
    }
   ],
   "source": [
    "resp1=conversation.invoke(input=\"Hello AI\")"
   ]
  },
  {
   "cell_type": "code",
   "execution_count": 25,
   "metadata": {},
   "outputs": [
    {
     "name": "stdout",
     "output_type": "stream",
     "text": [
      "{'input': 'Hello AI', 'history': '', 'response': \" Hello there! It's nice to meet you. I am an AI created by a team of programmers at OpenAI. My purpose is to assist and communicate with humans in a friendly and helpful manner. How can I assist you today?\"}\n"
     ]
    }
   ],
   "source": [
    "print(resp1)"
   ]
  },
  {
   "cell_type": "code",
   "execution_count": 26,
   "metadata": {},
   "outputs": [
    {
     "name": "stdout",
     "output_type": "stream",
     "text": [
      "\n",
      "\n",
      "\u001b[1m> Entering new ConversationChain chain...\u001b[0m\n",
      "Prompt after formatting:\n",
      "\u001b[32;1m\u001b[1;3mThe following is a friendly conversation between a human and an AI. The AI is talkative and provides lots of specific details from its context. If the AI does not know the answer to a question, it truthfully says it does not know.\n",
      "\n",
      "Current conversation:\n",
      "Human: Hello AI\n",
      "AI:  Hello there! It's nice to meet you. I am an AI created by a team of programmers at OpenAI. My purpose is to assist and communicate with humans in a friendly and helpful manner. How can I assist you today?\n",
      "Human: Which is the largest Planet in the solar system?\n",
      "AI:\u001b[0m\n",
      "\n",
      "\u001b[1m> Finished chain.\u001b[0m\n"
     ]
    }
   ],
   "source": [
    "resp2=conversation.invoke(input=\"Which is the largest Planet in the solar system?\")"
   ]
  },
  {
   "cell_type": "code",
   "execution_count": 27,
   "metadata": {},
   "outputs": [
    {
     "name": "stdout",
     "output_type": "stream",
     "text": [
      "{'input': 'Which is the largest Planet in the solar system?', 'history': \"Human: Hello AI\\nAI:  Hello there! It's nice to meet you. I am an AI created by a team of programmers at OpenAI. My purpose is to assist and communicate with humans in a friendly and helpful manner. How can I assist you today?\", 'response': ' The largest planet in our solar system is Jupiter. It has a diameter of 139,822 kilometers and is more than twice as massive as all the other planets combined. It also has the most moons, with a total of 79 known moons. Is there anything else you would like to know about Jupiter or the solar system?'}\n"
     ]
    }
   ],
   "source": [
    "print(resp2)"
   ]
  },
  {
   "cell_type": "code",
   "execution_count": 28,
   "metadata": {},
   "outputs": [
    {
     "name": "stdout",
     "output_type": "stream",
     "text": [
      "\n",
      "\n",
      "\u001b[1m> Entering new ConversationChain chain...\u001b[0m\n",
      "Prompt after formatting:\n",
      "\u001b[32;1m\u001b[1;3mThe following is a friendly conversation between a human and an AI. The AI is talkative and provides lots of specific details from its context. If the AI does not know the answer to a question, it truthfully says it does not know.\n",
      "\n",
      "Current conversation:\n",
      "Human: Hello AI\n",
      "AI:  Hello there! It's nice to meet you. I am an AI created by a team of programmers at OpenAI. My purpose is to assist and communicate with humans in a friendly and helpful manner. How can I assist you today?\n",
      "Human: Which is the largest Planet in the solar system?\n",
      "AI:  The largest planet in our solar system is Jupiter. It has a diameter of 139,822 kilometers and is more than twice as massive as all the other planets combined. It also has the most moons, with a total of 79 known moons. Is there anything else you would like to know about Jupiter or the solar system?\n",
      "Human: Which is the 2nd largest?\n",
      "AI:\u001b[0m\n",
      "\n",
      "\u001b[1m> Finished chain.\u001b[0m\n"
     ]
    }
   ],
   "source": [
    "resp3=conversation.invoke(input=\"Which is the 2nd largest?\")"
   ]
  },
  {
   "cell_type": "code",
   "execution_count": null,
   "metadata": {},
   "outputs": [],
   "source": []
  },
  {
   "cell_type": "code",
   "execution_count": 35,
   "metadata": {},
   "outputs": [
    {
     "name": "stdout",
     "output_type": "stream",
     "text": [
      "Human: Hello AI\n",
      "AI:  Hello there! It's nice to meet you. I am an AI created by a team of programmers at OpenAI. My purpose is to assist and communicate with humans in a friendly and helpful manner. How can I assist you today?\n",
      "Human: Which is the largest Planet in the solar system?\n",
      "AI:  The largest planet in our solar system is Jupiter. It has a diameter of 139,822 kilometers and is more than twice as massive as all the other planets combined. It also has the most moons, with a total of 79 known moons. Is there anything else you would like to know about Jupiter or the solar system?\n"
     ]
    }
   ],
   "source": [
    "print(resp3['history'])"
   ]
  },
  {
   "cell_type": "code",
   "execution_count": 30,
   "metadata": {},
   "outputs": [
    {
     "name": "stdout",
     "output_type": "stream",
     "text": [
      "{'input': 'Which is the 2nd largest?', 'history': \"Human: Hello AI\\nAI:  Hello there! It's nice to meet you. I am an AI created by a team of programmers at OpenAI. My purpose is to assist and communicate with humans in a friendly and helpful manner. How can I assist you today?\\nHuman: Which is the largest Planet in the solar system?\\nAI:  The largest planet in our solar system is Jupiter. It has a diameter of 139,822 kilometers and is more than twice as massive as all the other planets combined. It also has the most moons, with a total of 79 known moons. Is there anything else you would like to know about Jupiter or the solar system?\", 'response': ' The second largest planet in our solar system is Saturn. It has a diameter of 116,464 kilometers and is known for its beautiful rings made of ice and rock particles. It also has 82 known moons. Is there anything else you would like to know about Saturn or the solar system?'}\n"
     ]
    }
   ],
   "source": [
    "print(resp3)"
   ]
  },
  {
   "cell_type": "code",
   "execution_count": 37,
   "metadata": {},
   "outputs": [
    {
     "name": "stdout",
     "output_type": "stream",
     "text": [
      "Which is the 2nd largest?\n"
     ]
    }
   ],
   "source": [
    "print(resp3['input'])"
   ]
  },
  {
   "cell_type": "code",
   "execution_count": 36,
   "metadata": {},
   "outputs": [
    {
     "name": "stdout",
     "output_type": "stream",
     "text": [
      "Human: Hello AI\n",
      "AI:  Hello there! It's nice to meet you. I am an AI created by a team of programmers at OpenAI. My purpose is to assist and communicate with humans in a friendly and helpful manner. How can I assist you today?\n",
      "Human: Which is the largest Planet in the solar system?\n",
      "AI:  The largest planet in our solar system is Jupiter. It has a diameter of 139,822 kilometers and is more than twice as massive as all the other planets combined. It also has the most moons, with a total of 79 known moons. Is there anything else you would like to know about Jupiter or the solar system?\n"
     ]
    }
   ],
   "source": [
    "print(resp3['history'])"
   ]
  },
  {
   "cell_type": "code",
   "execution_count": 33,
   "metadata": {},
   "outputs": [
    {
     "name": "stdout",
     "output_type": "stream",
     "text": [
      " The second largest planet in our solar system is Saturn. It has a diameter of 116,464 kilometers and is known for its beautiful rings made of ice and rock particles. It also has 82 known moons. Is there anything else you would like to know about Saturn or the solar system?\n"
     ]
    }
   ],
   "source": [
    "print(resp3['response'])"
   ]
  },
  {
   "cell_type": "code",
   "execution_count": null,
   "metadata": {},
   "outputs": [],
   "source": []
  }
 ],
 "metadata": {
  "kernelspec": {
   "display_name": "oaivenv",
   "language": "python",
   "name": "python3"
  },
  "language_info": {
   "codemirror_mode": {
    "name": "ipython",
    "version": 3
   },
   "file_extension": ".py",
   "mimetype": "text/x-python",
   "name": "python",
   "nbconvert_exporter": "python",
   "pygments_lexer": "ipython3",
   "version": "3.11.9"
  }
 },
 "nbformat": 4,
 "nbformat_minor": 2
}
