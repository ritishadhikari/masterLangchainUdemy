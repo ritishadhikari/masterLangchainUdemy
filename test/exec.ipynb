{
 "cells": [
  {
   "cell_type": "code",
   "execution_count": 1,
   "metadata": {},
   "outputs": [
    {
     "name": "stderr",
     "output_type": "stream",
     "text": [
      "c:\\Users\\MSI 1\\.conda\\envs\\oaivenv\\Lib\\site-packages\\tqdm\\auto.py:21: TqdmWarning: IProgress not found. Please update jupyter and ipywidgets. See https://ipywidgets.readthedocs.io/en/stable/user_install.html\n",
      "  from .autonotebook import tqdm as notebook_tqdm\n"
     ]
    }
   ],
   "source": [
    "import PIL\n",
    "import numpy as np\n",
    "import pandas as pd\n",
    "from langchain_google_genai import GoogleGenerativeAI,ChatGoogleGenerativeAI\n",
    "from langchain.prompts import (ChatPromptTemplate,\n",
    "                               SystemMessagePromptTemplate,\n",
    "                               HumanMessagePromptTemplate,\n",
    "                               )\n",
    "from langchain_core.messages import HumanMessage"
   ]
  },
  {
   "cell_type": "code",
   "execution_count": 4,
   "metadata": {},
   "outputs": [],
   "source": [
    "\n",
    "\n",
    "\n",
    "img=PIL.Image.open(\"images/1.jpg\")"
   ]
  },
  {
   "cell_type": "code",
   "execution_count": 5,
   "metadata": {},
   "outputs": [],
   "source": [
    "img.show()"
   ]
  },
  {
   "cell_type": "code",
   "execution_count": 54,
   "metadata": {},
   "outputs": [],
   "source": [
    "llm=ChatGoogleGenerativeAI(model=\"gemini-1.5-flash-001\")"
   ]
  },
  {
   "cell_type": "code",
   "execution_count": 60,
   "metadata": {},
   "outputs": [],
   "source": [
    "def getOCR(filePath,llm):\n",
    "    promptTemplate=ChatPromptTemplate.from_messages(\n",
    "    messages=[\n",
    "        HumanMessage(\n",
    "            content=[\n",
    "                    {\n",
    "                        'type':'text',\n",
    "                        'text': \"\"\"Return the texts from the images and convert into a CSV format and only return the first column.\n",
    "                                \"\"\"\n",
    "                    },\n",
    "                    {\n",
    "                        'type':'image_url',\n",
    "                        'image_url':filePath  # public image url, local file path, base64encoded, PIL \n",
    "                    }\n",
    "                ]\n",
    "            \n",
    "            )\n",
    "        ]\n",
    "    )\n",
    "\n",
    "    prompt=promptTemplate.format_messages()\n",
    "    prompt=promptTemplate.format_messages()\n",
    "    response=llm.invoke(input=prompt)\n",
    "    return response.content"
   ]
  },
  {
   "cell_type": "code",
   "execution_count": 61,
   "metadata": {},
   "outputs": [],
   "source": [
    "response1=getOCR(filePath=\"images/1.jpg\",llm=llm)"
   ]
  },
  {
   "cell_type": "code",
   "execution_count": 62,
   "metadata": {},
   "outputs": [],
   "source": [
    "response2=getOCR(filePath=\"images/2.jpg\",llm=llm)"
   ]
  },
  {
   "cell_type": "code",
   "execution_count": 63,
   "metadata": {},
   "outputs": [
    {
     "name": "stdout",
     "output_type": "stream",
     "text": [
      "Deep Learning\n",
      "Did You Mean (DYM)\n",
      "Domain Knowledge\n",
      "Edge model\n",
      "Emotion AI (aka Affective Computing)\n",
      "Environmental, Social, and Governance (ESG)\n",
      "ETL (Entity Recognition, Extraction)\n",
      "Explainable AI/Explainability\n",
      "Learn more\n",
      "Extraction or Keyphrase Extraction\n",
      "Extractive Summarization\n",
      "Also see Generative Summarization\n",
      "F-score (F-measure, F1 measure)\n",
      "Few-shot learning\n",
      "Fine-tuned model\n",
      "Foundational model\n",
      "Generalized model\n",
      "Generative AI (GenAI)\n",
      "Generative Summarization\n",
      "Hybrid AI\n",
      "Inference Engine\n",
      "Insight Engines\n"
     ]
    }
   ],
   "source": [
    "print(response1)"
   ]
  },
  {
   "cell_type": "code",
   "execution_count": 64,
   "metadata": {},
   "outputs": [
    {
     "name": "stdout",
     "output_type": "stream",
     "text": [
      "Glossary of AI Terms\n",
      "Actionable Intelligence\n",
      "Artificial Neural Network (ANN)\n",
      "Category Trees\n",
      "Cognitive Map\n",
      "Composite AI\n",
      "Learn more\n",
      "Computational Semantics (Semantic Technology)\n",
      "Content Enrichment or Enrichment\n",
      "Controlled Vocabulary\n",
      "Conversational AI\n",
      "Convolutional Neural Networks (CNN)\n",
      "Custom/Domain Language model\n",
      "Data Discovery\n",
      "Data Drift\n",
      "Learn more\n",
      "Data Extraction\n",
      "Data Ingestion\n",
      "Data Labelling\n",
      "Data Scarcity\n",
      "Deep Learning\n",
      "Did You Mean glossary\n"
     ]
    }
   ],
   "source": [
    "print(response2)"
   ]
  },
  {
   "cell_type": "markdown",
   "metadata": {},
   "source": [
    "### Importing the above contents in text file and passing to LLM for Outputs"
   ]
  },
  {
   "cell_type": "code",
   "execution_count": 2,
   "metadata": {},
   "outputs": [],
   "source": [
    "with open(file=\"extractedData/extractedData.txt\",mode=\"r+\") as fp:\n",
    "    content=fp.readlines()"
   ]
  },
  {
   "cell_type": "code",
   "execution_count": 3,
   "metadata": {},
   "outputs": [],
   "source": [
    "content=[c.strip() for c in content]"
   ]
  },
  {
   "cell_type": "code",
   "execution_count": 4,
   "metadata": {},
   "outputs": [],
   "source": [
    "llmPro=ChatGoogleGenerativeAI(model=\"gemini-1.5-pro-latest\")"
   ]
  },
  {
   "cell_type": "code",
   "execution_count": 5,
   "metadata": {},
   "outputs": [],
   "source": [
    "promptTemplate=ChatPromptTemplate.from_messages(\n",
    "    messages=[\n",
    "        SystemMessagePromptTemplate.from_template(\n",
    "            template=\"You are an pro in AI and ML concepts and you are given a list of concepts from AI and ML to answer\"\n",
    "        ),\n",
    "        HumanMessagePromptTemplate.from_template(\n",
    "            template=\"Give Definition of each terms and examples w.r.t. a Robot for individual elements in the provided {lst} and save the output in a text file named `{format}`\"\n",
    "        )\n",
    "    ]\n",
    ")\n",
    "\n",
    "prompt=promptTemplate.format_messages(lst=content,format=\"ai-explain.txt\")"
   ]
  },
  {
   "cell_type": "code",
   "execution_count": 6,
   "metadata": {},
   "outputs": [
    {
     "data": {
      "text/plain": [
       "[SystemMessage(content='You are an pro in AI and ML concepts and you are given a list of concepts from AI and ML to answer'),\n",
       " HumanMessage(content=\"Give Definition of each terms and examples w.r.t. a Robot for individual elements in the provided ['Domain Knowledge', 'Edge model', 'Emotion AI (aka Affective Computing)', 'Environmental, Social, and Governance (ESG)', 'ETL (Entity Recognition, Extraction)', 'Explainable AI/Explainability', 'Learn more', 'Extraction or Keyphrase Extraction', 'Extractive Summarization', 'Also see Generative Summarization', 'F-score (F-measure, F1 measure)', 'Few-shot learning', 'Fine-tuned model', 'Foundational model', 'Generalized model', 'Generative AI (GenAI)', 'Generative Summarization', 'Hybrid AI', 'Inference Engine', 'Insight Engine'] and save the output in a text file named `ai-explain.txt`\")]"
      ]
     },
     "execution_count": 6,
     "metadata": {},
     "output_type": "execute_result"
    }
   ],
   "source": [
    "prompt"
   ]
  },
  {
   "cell_type": "code",
   "execution_count": 7,
   "metadata": {},
   "outputs": [],
   "source": [
    "response=llmPro.invoke(input=prompt)"
   ]
  },
  {
   "cell_type": "code",
   "execution_count": 8,
   "metadata": {},
   "outputs": [
    {
     "name": "stdout",
     "output_type": "stream",
     "text": [
      "```python\n",
      "definitions = {\n",
      "    'Domain Knowledge': {\n",
      "        'definition': 'Expertise and understanding specific to a particular field, industry, or problem area. It provides context and insights that are crucial for developing effective AI/ML solutions.',\n",
      "        'example': 'For a robot designed for warehouse operations, domain knowledge would include understanding of inventory management, logistics, warehouse layout, and safety regulations.'\n",
      "    },\n",
      "    'Edge model': {\n",
      "        'definition': 'An AI/ML model deployed and executed directly on edge devices (e.g., smartphones, sensors, robots) rather than on centralized servers. This allows for real-time processing, reduced latency, and increased privacy.',\n",
      "        'example': 'A delivery robot using an edge model for navigation can process sensor data locally to make real-time decisions about its route and avoid obstacles without relying on constant communication with a central server.'\n",
      "    },\n",
      "    'Emotion AI (aka Affective Computing)': {\n",
      "        'definition': 'A field of AI that aims to develop systems capable of recognizing, interpreting, and responding to human emotions. This technology has applications in areas like customer service, healthcare, and education.',\n",
      "        'example': 'A companion robot equipped with emotion AI could analyze a user\\'s facial expressions, tone of voice, and body language to understand their emotional state and respond accordingly, offering comfort or engaging in activities that match the user\\'s mood.'\n",
      "    },\n",
      "    'Environmental, Social, and Governance (ESG)': {\n",
      "        'definition': 'A set of criteria used to evaluate an organization\\'s practices related to environmental impact, social responsibility, and corporate governance. In the context of AI, ESG considerations involve ensuring that AI systems are developed and used in a responsible and ethical manner.',\n",
      "        'example': 'When designing a robot for environmental monitoring, ESG considerations would involve minimizing its carbon footprint, ensuring responsible sourcing of materials, and addressing potential impacts on wildlife and ecosystems.'\n",
      "    },\n",
      "    'ETL (Entity Recognition, Extraction)': {\n",
      "        'definition': 'The process of identifying and extracting specific entities (e.g., names, locations, organizations) from unstructured text data. This is a key step in natural language processing (NLP) and information extraction.',\n",
      "        'example': 'A customer service robot could use ETL to extract relevant information from customer emails or chat logs. For instance, it could identify the customer\\'s name, order number, and the nature of their request.'\n",
      "    },\n",
      "    'Explainable AI/Explainability': {\n",
      "        'definition': 'The ability to understand and interpret the decision-making processes of AI/ML models. Explainable AI is crucial for building trust and ensuring that AI systems are used responsibly.',\n",
      "        'example': 'If a medical diagnosis robot recommends a particular treatment, explainable AI would allow doctors and patients to understand the factors that led to that recommendation, increasing confidence in the decision.'\n",
      "    },\n",
      "    'Learn more': {\n",
      "        'definition': 'A placeholder for providing additional information or links to relevant resources.',\n",
      "        'example': 'Not applicable.'\n",
      "    },\n",
      "    'Extraction or Keyphrase Extraction': {\n",
      "        'definition': 'The process of automatically identifying the most important words or phrases that represent the key topics or themes of a document.',\n",
      "        'example': 'Given a research paper on robotics, a keyphrase extraction algorithm could identify terms like \"robot navigation,\" \"computer vision,\" and \"sensor fusion\" as keyphrases.'\n",
      "    },\n",
      "    'Extractive Summarization': {\n",
      "        'definition': 'A text summarization technique that involves selecting and extracting the most important sentences from a document to create a shorter version while preserving the key information.',\n",
      "        'example': 'An extractive summarization algorithm could condense a lengthy technical report on robot capabilities into a shorter summary by identifying and extracting the most informative sentences.'\n",
      "    },\n",
      "    'Also see Generative Summarization': {\n",
      "        'definition': 'A reference to another concept, Generative Summarization, which is a different approach to text summarization.',\n",
      "        'example': 'Not applicable.'\n",
      "    },\n",
      "    'F-score (F-measure, F1 measure)': {\n",
      "        'definition': 'A metric used to evaluate the performance of a classification model by considering both precision and recall. It provides a balanced assessment of accuracy.',\n",
      "        'example': 'An object detection model trained to identify different components in a warehouse might be evaluated using the F-score to measure its accuracy in correctly identifying and classifying those components.'\n",
      "    },\n",
      "    'Few-shot learning': {\n",
      "        'definition': 'An ML technique where models are trained to learn from limited data, similar to how humans can generalize from just a few examples.',\n",
      "        'example': 'A robot designed for sorting packages could be trained with few-shot learning to recognize new types of packages after seeing only a few examples.'\n",
      "    },\n",
      "    'Fine-tuned model': {\n",
      "        'definition': 'An ML model that has been further trained on a specific task or dataset, starting from a pre-trained model as a base. This allows for faster training and better performance on specialized tasks.',\n",
      "        'example': 'A pre-trained image recognition model could be fine-tuned on a dataset of images specific to a factory environment to improve its accuracy in identifying machinery and equipment.'\n",
      "    },\n",
      "    'Foundational model': {\n",
      "        'definition': 'A large-scale ML model trained on a vast dataset, often using unsupervised or self-supervised learning. These models can be adapted to various downstream tasks.',\n",
      "        'example': 'A foundational model trained on a massive dataset of text and code could be used as the basis for developing a robot capable of understanding and responding to natural language instructions.'\n",
      "    },\n",
      "    'Generalized model': {\n",
      "        'definition': 'An ML model that can perform well on unseen data or tasks that are different from the data it was trained on. This indicates the model\\'s ability to generalize its learning.',\n",
      "        'example': 'A robot trained to navigate in a controlled environment like a factory floor should ideally be able to generalize its navigation skills to new, previously unseen environments.'\n",
      "    },\n",
      "    'Generative AI (GenAI)': {\n",
      "        'definition': 'A type of AI that focuses on creating new content, such as text, images, music, or code, based on the patterns and relationships it has learned from existing data.',\n",
      "        'example': 'A generative AI model could be used to design new robot components or generate synthetic data to train other AI models.'\n",
      "    },\n",
      "    'Generative Summarization': {\n",
      "        'definition': 'A text summarization technique that involves generating new sentences that capture the essential information from a document, rather than simply extracting existing sentences.',\n",
      "        'example': 'A generative summarization model could analyze a research paper on robot learning and produce a concise summary by paraphrasing key findings and generating new sentences that convey the main ideas.'\n",
      "    },\n",
      "    'Hybrid AI': {\n",
      "        'definition': 'An approach to AI that combines different AI techniques, such as rule-based systems, machine learning, and deep learning, to leverage the strengths of each approach.',\n",
      "        'example': 'A self-driving car might use a hybrid AI system that combines rule-based systems for traffic law compliance, machine learning for object detection, and deep learning for path planning.'\n",
      "    },\n",
      "    'Inference Engine': {\n",
      "        'definition': 'A component of an AI system that applies logical rules or learned patterns from a knowledge base or trained model to new data to make inferences or predictions.',\n",
      "        'example': 'In a medical diagnosis system, the inference engine would use the patient\\'s symptoms and medical history, along with its knowledge base of diseases and their treatments, to infer the most likely diagnosis.'\n",
      "    },\n",
      "    'Insight Engine': {\n",
      "        'definition': 'A type of search and analytics tool that goes beyond traditional search engines by using AI to analyze vast amounts of data, identify patterns, and provide actionable insights.',\n",
      "        'example': 'An insight engine could be used in manufacturing to analyze sensor data from factory robots, identify anomalies in performance, and suggest predictive maintenance actions.'\n",
      "    },\n",
      "}\n",
      "\n",
      "with open('ai-explain.txt', 'w') as f:\n",
      "    for term, details in definitions.items():\n",
      "        f.write(f\"## {term}\\n\\n\")\n",
      "        f.write(f\"**Definition:** {details['definition']}\\n\\n\")\n",
      "        f.write(f\"**Example:** {details['example']}\\n\\n\")\n",
      "```\n",
      "\n",
      "This code will generate a file named `ai-explain.txt` with the definitions and examples for each AI/ML concept, formatted for better readability. \n",
      "\n"
     ]
    }
   ],
   "source": [
    "print(response.content)"
   ]
  },
  {
   "cell_type": "code",
   "execution_count": 86,
   "metadata": {},
   "outputs": [],
   "source": [
    "with open(file=\"extractedData/finalOutput.txt\",mode=\"w+\") as f:\n",
    "    f.write(response.content)"
   ]
  },
  {
   "cell_type": "code",
   "execution_count": null,
   "metadata": {},
   "outputs": [],
   "source": []
  }
 ],
 "metadata": {
  "kernelspec": {
   "display_name": "oaivenv",
   "language": "python",
   "name": "python3"
  },
  "language_info": {
   "codemirror_mode": {
    "name": "ipython",
    "version": 3
   },
   "file_extension": ".py",
   "mimetype": "text/x-python",
   "name": "python",
   "nbconvert_exporter": "python",
   "pygments_lexer": "ipython3",
   "version": "3.11.9"
  }
 },
 "nbformat": 4,
 "nbformat_minor": 2
}
