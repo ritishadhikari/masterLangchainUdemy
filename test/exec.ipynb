{
 "cells": [
  {
   "cell_type": "code",
   "execution_count": 11,
   "metadata": {},
   "outputs": [],
   "source": [
    "import PIL\n",
    "import numpy as np\n",
    "import pandas as pd\n",
    "from langchain_google_genai import GoogleGenerativeAI,ChatGoogleGenerativeAI\n",
    "from langchain.prompts import (ChatPromptTemplate,\n",
    "                               SystemMessagePromptTemplate,\n",
    "                               HumanMessagePromptTemplate,\n",
    "                               )\n",
    "from langchain_core.messages import HumanMessage"
   ]
  },
  {
   "cell_type": "code",
   "execution_count": 4,
   "metadata": {},
   "outputs": [],
   "source": [
    "\n",
    "\n",
    "\n",
    "img=PIL.Image.open(\"images/1.jpg\")"
   ]
  },
  {
   "cell_type": "code",
   "execution_count": 5,
   "metadata": {},
   "outputs": [],
   "source": [
    "img.show()"
   ]
  },
  {
   "cell_type": "code",
   "execution_count": 54,
   "metadata": {},
   "outputs": [],
   "source": [
    "llm=ChatGoogleGenerativeAI(model=\"gemini-1.5-flash-001\")"
   ]
  },
  {
   "cell_type": "code",
   "execution_count": 60,
   "metadata": {},
   "outputs": [],
   "source": [
    "def getOCR(filePath,llm):\n",
    "    promptTemplate=ChatPromptTemplate.from_messages(\n",
    "    messages=[\n",
    "        HumanMessage(\n",
    "            content=[\n",
    "                    {\n",
    "                        'type':'text',\n",
    "                        'text': \"\"\"Return the texts from the images and convert into a CSV format and only return the first column.\n",
    "                                \"\"\"\n",
    "                    },\n",
    "                    {\n",
    "                        'type':'image_url',\n",
    "                        'image_url':filePath  # public image url, local file path, base64encoded, PIL \n",
    "                    }\n",
    "                ]\n",
    "            \n",
    "            )\n",
    "        ]\n",
    "    )\n",
    "\n",
    "    prompt=promptTemplate.format_messages()\n",
    "    prompt=promptTemplate.format_messages()\n",
    "    response=llm.invoke(input=prompt)\n",
    "    return response.content"
   ]
  },
  {
   "cell_type": "code",
   "execution_count": 61,
   "metadata": {},
   "outputs": [],
   "source": [
    "response1=getOCR(filePath=\"images/1.jpg\",llm=llm)"
   ]
  },
  {
   "cell_type": "code",
   "execution_count": 62,
   "metadata": {},
   "outputs": [],
   "source": [
    "response2=getOCR(filePath=\"images/2.jpg\",llm=llm)"
   ]
  },
  {
   "cell_type": "code",
   "execution_count": 63,
   "metadata": {},
   "outputs": [
    {
     "name": "stdout",
     "output_type": "stream",
     "text": [
      "Deep Learning\n",
      "Did You Mean (DYM)\n",
      "Domain Knowledge\n",
      "Edge model\n",
      "Emotion AI (aka Affective Computing)\n",
      "Environmental, Social, and Governance (ESG)\n",
      "ETL (Entity Recognition, Extraction)\n",
      "Explainable AI/Explainability\n",
      "Learn more\n",
      "Extraction or Keyphrase Extraction\n",
      "Extractive Summarization\n",
      "Also see Generative Summarization\n",
      "F-score (F-measure, F1 measure)\n",
      "Few-shot learning\n",
      "Fine-tuned model\n",
      "Foundational model\n",
      "Generalized model\n",
      "Generative AI (GenAI)\n",
      "Generative Summarization\n",
      "Hybrid AI\n",
      "Inference Engine\n",
      "Insight Engines\n"
     ]
    }
   ],
   "source": [
    "print(response1)"
   ]
  },
  {
   "cell_type": "code",
   "execution_count": 64,
   "metadata": {},
   "outputs": [
    {
     "name": "stdout",
     "output_type": "stream",
     "text": [
      "Glossary of AI Terms\n",
      "Actionable Intelligence\n",
      "Artificial Neural Network (ANN)\n",
      "Category Trees\n",
      "Cognitive Map\n",
      "Composite AI\n",
      "Learn more\n",
      "Computational Semantics (Semantic Technology)\n",
      "Content Enrichment or Enrichment\n",
      "Controlled Vocabulary\n",
      "Conversational AI\n",
      "Convolutional Neural Networks (CNN)\n",
      "Custom/Domain Language model\n",
      "Data Discovery\n",
      "Data Drift\n",
      "Learn more\n",
      "Data Extraction\n",
      "Data Ingestion\n",
      "Data Labelling\n",
      "Data Scarcity\n",
      "Deep Learning\n",
      "Did You Mean glossary\n"
     ]
    }
   ],
   "source": [
    "print(response2)"
   ]
  },
  {
   "cell_type": "markdown",
   "metadata": {},
   "source": [
    "### Importing the above contents in text file and passing to LLM for Outputs"
   ]
  },
  {
   "cell_type": "code",
   "execution_count": 66,
   "metadata": {},
   "outputs": [],
   "source": [
    "with open(file=\"extractedData/extractedData.txt\",mode=\"r+\") as fp:\n",
    "    content=fp.readlines()"
   ]
  },
  {
   "cell_type": "code",
   "execution_count": 69,
   "metadata": {},
   "outputs": [],
   "source": [
    "content=[c.strip() for c in content]"
   ]
  },
  {
   "cell_type": "code",
   "execution_count": 74,
   "metadata": {},
   "outputs": [],
   "source": [
    "llmPro=ChatGoogleGenerativeAI(model=\"gemini-1.5-pro-latest\")"
   ]
  },
  {
   "cell_type": "code",
   "execution_count": 79,
   "metadata": {},
   "outputs": [],
   "source": [
    "promptTemplate=ChatPromptTemplate.from_messages(\n",
    "    messages=[\n",
    "        SystemMessagePromptTemplate.from_template(\n",
    "            template=\"You are an pro in AI and ML concepts and you are given a list of concepts from AI and ML to answer\"\n",
    "        ),\n",
    "        HumanMessagePromptTemplate.from_template(\n",
    "            template=\"Give detailed explaination of individual elements of the {lst} and save the output in a text file named `{format}`\"\n",
    "        )\n",
    "    ]\n",
    ")\n",
    "\n",
    "prompt=promptTemplate.format_messages(lst=content,format=\"ai-explain.txt\")"
   ]
  },
  {
   "cell_type": "code",
   "execution_count": 80,
   "metadata": {},
   "outputs": [
    {
     "data": {
      "text/plain": [
       "[SystemMessage(content='You are an pro in AI and ML concepts and you are given a list of concepts from AI and ML to answer'),\n",
       " HumanMessage(content=\"Give detailed explaination of individual elements of the ['Domain Knowledge', 'Edge model', 'Emotion AI (aka Affective Computing)', 'Environmental, Social, and Governance (ESG)', 'ETL (Entity Recognition, Extraction)', 'Explainable AI/Explainability', 'Learn more', 'Extraction or Keyphrase Extraction', 'Extractive Summarization', 'Also see Generative Summarization', 'F-score (F-measure, F1 measure)', 'Few-shot learning', 'Fine-tuned model', 'Foundational model', 'Generalized model', 'Generative AI (GenAI)', 'Generative Summarization', 'Hybrid AI', 'Inference Engine', 'Insight Engine'] and save the output in a text file named `ai-explain.txt`\")]"
      ]
     },
     "execution_count": 80,
     "metadata": {},
     "output_type": "execute_result"
    }
   ],
   "source": [
    "prompt"
   ]
  },
  {
   "cell_type": "code",
   "execution_count": 81,
   "metadata": {},
   "outputs": [],
   "source": [
    "response=llmPro.invoke(input=prompt)"
   ]
  },
  {
   "cell_type": "code",
   "execution_count": 83,
   "metadata": {},
   "outputs": [
    {
     "name": "stdout",
     "output_type": "stream",
     "text": [
      "Okay, I can explain those AI and ML concepts for you. Here's a breakdown, formatted for clarity and saved to \"ai-explain.txt\" as requested:\n",
      "\n",
      "```\n",
      "# AI and ML Concepts Explained\n",
      "\n",
      "This document provides detailed explanations for a range of AI and ML concepts.\n",
      "\n",
      "## Core Concepts\n",
      "\n",
      "**1. Domain Knowledge**\n",
      "\n",
      "* **Definition:** Expertise and understanding specific to a particular field, industry, or problem area. It encompasses the facts, rules, relationships, and patterns that characterize that domain.\n",
      "* **Importance in AI/ML:**\n",
      "    * **Feature Engineering:**  Domain knowledge helps identify relevant features from raw data, leading to more effective models.\n",
      "    * **Model Selection:**  Choosing the right algorithms and techniques often depends on the specific characteristics of the domain.\n",
      "    * **Result Interpretation:**  Domain experts can validate if model outputs make sense within the context of the problem.\n",
      "* **Example:** In medical diagnosis, a doctor's knowledge of symptoms, diseases, and treatment protocols is crucial for building accurate diagnostic models.\n",
      "\n",
      "**2. Edge Model**\n",
      "\n",
      "* **Definition:** An AI/ML model deployed and executed directly on a device (the \"edge\") like a smartphone, IoT sensor, or local server, rather than in a centralized cloud environment.\n",
      "* **Benefits:**\n",
      "    * **Reduced Latency:** Faster processing as data doesn't need to travel to the cloud.\n",
      "    * **Offline Functionality:**  Models can work even with intermittent or no internet connectivity.\n",
      "    * **Privacy:**  Sensitive data can be processed locally, reducing transmission risks.\n",
      "* **Use Cases:** Real-time image recognition on security cameras, voice assistants on smart devices, and predictive maintenance in industrial settings.\n",
      "\n",
      "**3. Emotion AI (aka Affective Computing)**\n",
      "\n",
      "* **Definition:**  A field within AI that aims to give computers the ability to recognize, interpret, and simulate human emotions.\n",
      "* **Techniques:** \n",
      "    * Analyzing facial expressions, voice tone, and physiological signals.\n",
      "    * Processing natural language to detect sentiment and emotional cues.\n",
      "* **Applications:**\n",
      "    * **Market Research:**  Understanding customer reactions to products.\n",
      "    * **Healthcare:**  Detecting depression or anxiety in patients.\n",
      "    * **Human-Computer Interaction:** Creating more empathetic and responsive virtual assistants.\n",
      "\n",
      "**4. Environmental, Social, and Governance (ESG)**\n",
      "\n",
      "* **Definition:**  A set of criteria used to evaluate an organization's performance in areas related to sustainability and ethical impact. While not strictly an AI/ML concept, it's increasingly relevant.\n",
      "* **Connection to AI/ML:**\n",
      "    * **ESG Data Analysis:**  AI can process large datasets to identify ESG-related risks and opportunities.\n",
      "    * **Sustainable AI:**  Building and deploying AI systems in ways that minimize environmental impact and promote fairness.\n",
      "* **Example:** Using AI to optimize energy consumption in buildings, reducing carbon footprint (environmental impact).\n",
      "\n",
      "**5. ETL (Entity Recognition, Extraction)**\n",
      "\n",
      "* **Definition:** The process of identifying and extracting structured information (entities) from unstructured or semi-structured data, such as text. \n",
      "* **Key Steps:**\n",
      "    * **Entity Recognition:** Identifying named entities (e.g., people, locations, organizations) within text.\n",
      "    * **Entity Extraction:** Pulling out the identified entities and classifying them into predefined categories.\n",
      "* **Use Cases:** Customer relationship management (CRM), content analysis, and knowledge graph construction.\n",
      "\n",
      "**6. Explainable AI/Explainability**\n",
      "\n",
      "* **Definition:**  The ability to understand and explain the reasoning behind an AI/ML model's predictions or decisions.\n",
      "* **Importance:**\n",
      "    * **Trust and Transparency:** Builds confidence in AI systems, especially for critical applications.\n",
      "    * **Debugging and Improvement:** Helps identify biases, errors, or areas for model refinement.\n",
      "    * **Regulatory Compliance:**  Meeting legal requirements for explainability in certain domains.\n",
      "* **Techniques:**  SHAP (SHapley Additive exPlanations), LIME (Local Interpretable Model-agnostic Explanations), and decision trees.\n",
      "\n",
      "## Model Types & Concepts\n",
      "\n",
      "**7.  Learn More (Placeholder)**\n",
      "\n",
      "* **Note:** This seems like a placeholder. To provide an explanation, I need the actual concept or term you'd like to learn more about.\n",
      "\n",
      "**8. Extraction or Keyphrase Extraction**\n",
      "\n",
      "* **Definition:** The process of automatically identifying the most important words or phrases (keyphrases) that summarize the content of a text document.\n",
      "* **Methods:** \n",
      "    * **Statistical:**  TF-IDF (Term Frequency-Inverse Document Frequency) to find words that are frequent in a document but rare in the corpus.\n",
      "    * **Graph-based:** TextRank, which uses graph algorithms to rank the importance of words based on their connections. \n",
      "* **Applications:**  Search engine optimization (SEO), document indexing, and topic modeling. \n",
      "\n",
      "**9. Extractive Summarization**\n",
      "\n",
      "* **Definition:**  A text summarization technique that selects important sentences or phrases directly from the original document and combines them to create a shorter version.\n",
      "* **How it Works:** \n",
      "    * Sentences are ranked based on features like position in the text, presence of keywords, and similarity to other sentences.\n",
      "    * The highest-ranking sentences are extracted to form the summary.\n",
      "* **Example:**  Given a news article, an extractive summarizer might select the lead paragraph and a few other key sentences to create a short summary.\n",
      "\n",
      "**10. Also see Generative Summarization**\n",
      "\n",
      "* **Definition:**  A text summarization technique that generates new sentences paraphrasing or summarizing the original text, instead of directly extracting sentences.\n",
      "* **How it Works:**  Generative summarization models, often based on deep learning architectures like transformers, learn to generate human-like summaries.\n",
      "* **Comparison with Extractive:**  Generative summaries can be more concise and fluent, but they may also introduce factual errors if the model is not trained well.\n",
      "\n",
      "**11. F-score (F-measure, F1 measure)**\n",
      "\n",
      "* **Definition:**  A metric used to evaluate the performance of a classification model, particularly when dealing with imbalanced datasets. It considers both precision and recall.\n",
      "* **Formula:**  F1 = 2 * (precision * recall) / (precision + recall)\n",
      "    * **Precision:**  The proportion of correctly predicted positive instances out of all instances predicted as positive.\n",
      "    * **Recall:** The proportion of correctly predicted positive instances out of all actual positive instances.\n",
      "* **Interpretation:** A higher F-score (closer to 1) indicates a better balance between precision and recall.\n",
      "\n",
      "**12. Few-shot learning**\n",
      "\n",
      "* **Definition:** A machine learning paradigm where models are trained to make predictions with very limited labeled data, often just a few examples per class.\n",
      "* **Importance:**  Addresses the data-hungry nature of many deep learning models.\n",
      "* **Techniques:**\n",
      "    * **Meta-learning:**  Training models on a variety of tasks, enabling them to learn how to learn quickly.\n",
      "    * **Data Augmentation:**  Generating synthetic data from existing examples to increase the training set size.\n",
      "* **Example:**  Training an image classification model to recognize new object categories with only a handful of labeled images.\n",
      "\n",
      "**13. Fine-tuned model**\n",
      "\n",
      "* **Definition:** A model that has been further trained on a specific downstream task or dataset, starting from a pre-trained model as a starting point.\n",
      "* **Benefits:**\n",
      "    * **Faster Training:**  Leverages the knowledge learned from the pre-trained model, reducing training time.\n",
      "    * **Improved Performance:**  Often achieves better results than training from scratch, especially with limited data.\n",
      "* **Example:**  Fine-tuning a language model pre-trained on a massive text corpus (like GPT-3) for a specific task like sentiment analysis.\n",
      "\n",
      "**14. Foundational model**\n",
      "\n",
      "* **Definition:**  Large-scale, pre-trained models, often trained on massive datasets, that can be adapted to a wide range of downstream tasks.\n",
      "* **Characteristics:**\n",
      "    * **General-purpose:** Not task-specific, making them versatile.\n",
      "    * **High Capacity:**  Contain millions or billions of parameters, allowing them to capture complex patterns.\n",
      "* **Examples:**  BERT, GPT-3, and DALL-E are examples of foundational models in natural language processing and computer vision.\n",
      "\n",
      "**15. Generalized model**\n",
      "\n",
      "* **Definition:** A model that can perform well on unseen data, drawn from the same distribution as the training data. It has learned general patterns and relationships, not just memorized the training examples.\n",
      "* **Goal of Machine Learning:**  To create models that generalize well to new data.\n",
      "* **Techniques for Improving Generalization:**\n",
      "    * **Regularization:**  Preventing overfitting by adding constraints to the model.\n",
      "    * **Cross-validation:**  Evaluating the model on multiple data splits to estimate its performance on unseen data.\n",
      "\n",
      "**16. Generative AI (GenAI)**\n",
      "\n",
      "* **Definition:**  A category of AI algorithms that focus on creating new content, such as text, images, audio, video, or code, based on the patterns learned from existing data.\n",
      "* **Examples:**\n",
      "    * **Text Generation:**  Chatbots, language translation, story writing (e.g., GPT-3).\n",
      "    * **Image Generation:**  Creating realistic images from text descriptions (e.g., DALL-E 2, Stable Diffusion).\n",
      "    * **Music Generation:**  Composing original music in different styles.\n",
      "\n",
      "**17. Generative Summarization**\n",
      "\n",
      "* **Definition:** (See explanation above in point 10)\n",
      "\n",
      "**18. Hybrid AI**\n",
      "\n",
      "* **Definition:** An approach to AI that combines multiple AI techniques to leverage their strengths and overcome their limitations. \n",
      "* **Common Combinations:**\n",
      "    * **Symbolic AI + Machine Learning:**  Integrating rule-based systems with data-driven models.\n",
      "    * **Deep Learning + Reinforcement Learning:** Combining deep neural networks with reward-based learning.\n",
      "* **Benefits:** \n",
      "    * **Improved Accuracy:**  Hybrid systems can often achieve higher accuracy than using a single technique.\n",
      "    * **Enhanced Explainability:**  Combining symbolic AI can make some aspects of the system's reasoning more transparent. \n",
      "\n",
      "**19. Inference Engine**\n",
      "\n",
      "* **Definition:**  A component of an AI system that applies logical rules or a trained model to new data to make predictions or draw conclusions.\n",
      "* **Role:** \n",
      "    * **Takes input data and uses the model to generate outputs (predictions, classifications, etc.).**\n",
      "* **Example:** In a medical diagnosis system, the inference engine would take patient symptoms as input and use the trained model to predict the most likely diagnosis.\n",
      "\n",
      "**20. Insight Engine**\n",
      "\n",
      "* **Definition:**  A type of search and analytics tool that uses AI to help users discover relevant information and insights from large datasets.\n",
      "* **Capabilities:**\n",
      "    * **Natural Language Search:**  Allows users to query data using everyday language.\n",
      "    * **Machine Learning:**  Identifies patterns, trends, and anomalies in data.\n",
      "    * **Data Visualization:** Presents insights in an easy-to-understand format.\n",
      "* **Use Cases:**  Business intelligence, market research, and scientific discovery.\n",
      "``` \n",
      "\n",
      "Let me know if you would like a deeper dive into any of these concepts, or if you have any other AI/ML terms you'd like explained! \n",
      "\n"
     ]
    }
   ],
   "source": [
    "print(response.content)"
   ]
  },
  {
   "cell_type": "code",
   "execution_count": 86,
   "metadata": {},
   "outputs": [],
   "source": [
    "with open(file=\"extractedData/finalOutput.txt\",mode=\"w+\") as f:\n",
    "    f.write(response.content)"
   ]
  },
  {
   "cell_type": "code",
   "execution_count": null,
   "metadata": {},
   "outputs": [],
   "source": []
  }
 ],
 "metadata": {
  "kernelspec": {
   "display_name": "oaivenv",
   "language": "python",
   "name": "python3"
  },
  "language_info": {
   "codemirror_mode": {
    "name": "ipython",
    "version": 3
   },
   "file_extension": ".py",
   "mimetype": "text/x-python",
   "name": "python",
   "nbconvert_exporter": "python",
   "pygments_lexer": "ipython3",
   "version": "3.11.9"
  }
 },
 "nbformat": 4,
 "nbformat_minor": 2
}
